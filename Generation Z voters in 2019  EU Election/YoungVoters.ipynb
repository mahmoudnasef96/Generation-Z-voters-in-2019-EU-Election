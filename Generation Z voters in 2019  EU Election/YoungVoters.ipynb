{
 "cells": [
  {
   "cell_type": "markdown",
   "metadata": {},
   "source": [
    "# Can young voters Generation_Z swing the EU election 2024?"
   ]
  },
  {
   "cell_type": "code",
   "execution_count": 766,
   "metadata": {},
   "outputs": [
    {
     "data": {
      "text/html": [
       "        <script type=\"text/javascript\">\n",
       "        window.PlotlyConfig = {MathJaxConfig: 'local'};\n",
       "        if (window.MathJax && window.MathJax.Hub && window.MathJax.Hub.Config) {window.MathJax.Hub.Config({SVG: {font: \"STIX-Web\"}});}\n",
       "        if (typeof require !== 'undefined') {\n",
       "        require.undef(\"plotly\");\n",
       "        requirejs.config({\n",
       "            paths: {\n",
       "                'plotly': ['https://cdn.plot.ly/plotly-2.12.1.min']\n",
       "            }\n",
       "        });\n",
       "        require(['plotly'], function(Plotly) {\n",
       "            window._Plotly = Plotly;\n",
       "        });\n",
       "        }\n",
       "        </script>\n",
       "        "
      ]
     },
     "metadata": {},
     "output_type": "display_data"
    },
    {
     "data": {
      "text/html": [
       "        <script type=\"text/javascript\">\n",
       "        window.PlotlyConfig = {MathJaxConfig: 'local'};\n",
       "        if (window.MathJax && window.MathJax.Hub && window.MathJax.Hub.Config) {window.MathJax.Hub.Config({SVG: {font: \"STIX-Web\"}});}\n",
       "        if (typeof require !== 'undefined') {\n",
       "        require.undef(\"plotly\");\n",
       "        requirejs.config({\n",
       "            paths: {\n",
       "                'plotly': ['https://cdn.plot.ly/plotly-2.12.1.min']\n",
       "            }\n",
       "        });\n",
       "        require(['plotly'], function(Plotly) {\n",
       "            window._Plotly = Plotly;\n",
       "        });\n",
       "        }\n",
       "        </script>\n",
       "        "
      ]
     },
     "metadata": {},
     "output_type": "display_data"
    }
   ],
   "source": [
    "import numpy as np\n",
    "import pandas as pd\n",
    "import matplotlib.pyplot as plt\n",
    "from matplotlib import style\n",
    "style.use('ggplot')\n",
    "%matplotlib inline\n",
    "\n",
    "import plotly\n",
    "import plotly.express as px\n",
    "import plotly.graph_objects as go\n",
    "plt.rcParams['figure.figsize']=17,8\n",
    "import cufflinks as cf\n",
    "import plotly.offline as pyo\n",
    "from plotly.offline import init_notebook_mode,plot,iplot\n",
    "\n",
    "import folium\n",
    "pyo.init_notebook_mode(connected=True)\n",
    "cf.go_offline()"
   ]
  },
  {
   "cell_type": "code",
   "execution_count": null,
   "metadata": {},
   "outputs": [],
   "source": []
  },
  {
   "cell_type": "code",
   "execution_count": 767,
   "metadata": {},
   "outputs": [
    {
     "data": {
      "text/html": [
       "<div>\n",
       "<style scoped>\n",
       "    .dataframe tbody tr th:only-of-type {\n",
       "        vertical-align: middle;\n",
       "    }\n",
       "\n",
       "    .dataframe tbody tr th {\n",
       "        vertical-align: top;\n",
       "    }\n",
       "\n",
       "    .dataframe thead th {\n",
       "        text-align: right;\n",
       "    }\n",
       "</style>\n",
       "<table border=\"1\" class=\"dataframe\">\n",
       "  <thead>\n",
       "    <tr style=\"text-align: right;\">\n",
       "      <th></th>\n",
       "      <th>TIME</th>\n",
       "      <th>GEO</th>\n",
       "      <th>UNIT</th>\n",
       "      <th>AGE</th>\n",
       "      <th>SEX</th>\n",
       "      <th>PROJECTION</th>\n",
       "      <th>Value</th>\n",
       "      <th>Flag and Footnotes</th>\n",
       "    </tr>\n",
       "  </thead>\n",
       "  <tbody>\n",
       "    <tr>\n",
       "      <th>0</th>\n",
       "      <td>2019</td>\n",
       "      <td>European Union - 28 countries</td>\n",
       "      <td>Person</td>\n",
       "      <td>Total</td>\n",
       "      <td>Total</td>\n",
       "      <td>Baseline projections</td>\n",
       "      <td>514,436,397</td>\n",
       "      <td>NaN</td>\n",
       "    </tr>\n",
       "    <tr>\n",
       "      <th>1</th>\n",
       "      <td>2019</td>\n",
       "      <td>European Union - 28 countries</td>\n",
       "      <td>Person</td>\n",
       "      <td>16 years</td>\n",
       "      <td>Total</td>\n",
       "      <td>Baseline projections</td>\n",
       "      <td>5,235,779</td>\n",
       "      <td>NaN</td>\n",
       "    </tr>\n",
       "    <tr>\n",
       "      <th>2</th>\n",
       "      <td>2019</td>\n",
       "      <td>European Union - 28 countries</td>\n",
       "      <td>Person</td>\n",
       "      <td>17 years</td>\n",
       "      <td>Total</td>\n",
       "      <td>Baseline projections</td>\n",
       "      <td>5,299,432</td>\n",
       "      <td>NaN</td>\n",
       "    </tr>\n",
       "    <tr>\n",
       "      <th>3</th>\n",
       "      <td>2019</td>\n",
       "      <td>European Union - 28 countries</td>\n",
       "      <td>Person</td>\n",
       "      <td>18 years</td>\n",
       "      <td>Total</td>\n",
       "      <td>Baseline projections</td>\n",
       "      <td>5,466,860</td>\n",
       "      <td>NaN</td>\n",
       "    </tr>\n",
       "    <tr>\n",
       "      <th>4</th>\n",
       "      <td>2019</td>\n",
       "      <td>European Union - 28 countries</td>\n",
       "      <td>Person</td>\n",
       "      <td>19 years</td>\n",
       "      <td>Total</td>\n",
       "      <td>Baseline projections</td>\n",
       "      <td>5,465,394</td>\n",
       "      <td>NaN</td>\n",
       "    </tr>\n",
       "  </tbody>\n",
       "</table>\n",
       "</div>"
      ],
      "text/plain": [
       "   TIME                            GEO    UNIT       AGE    SEX  \\\n",
       "0  2019  European Union - 28 countries  Person     Total  Total   \n",
       "1  2019  European Union - 28 countries  Person  16 years  Total   \n",
       "2  2019  European Union - 28 countries  Person  17 years  Total   \n",
       "3  2019  European Union - 28 countries  Person  18 years  Total   \n",
       "4  2019  European Union - 28 countries  Person  19 years  Total   \n",
       "\n",
       "              PROJECTION        Value  Flag and Footnotes  \n",
       "0  Baseline projections   514,436,397                 NaN  \n",
       "1  Baseline projections     5,235,779                 NaN  \n",
       "2  Baseline projections     5,299,432                 NaN  \n",
       "3  Baseline projections     5,466,860                 NaN  \n",
       "4  Baseline projections     5,465,394                 NaN  "
      ]
     },
     "execution_count": 767,
     "metadata": {},
     "output_type": "execute_result"
    }
   ],
   "source": [
    "df = pd.read_csv('data/Eurostat-PopulationProjection2019-proj_15npms.csv')\n",
    "df.head()"
   ]
  },
  {
   "cell_type": "code",
   "execution_count": 768,
   "metadata": {
    "scrolled": true
   },
   "outputs": [
    {
     "data": {
      "text/html": [
       "<div>\n",
       "<style scoped>\n",
       "    .dataframe tbody tr th:only-of-type {\n",
       "        vertical-align: middle;\n",
       "    }\n",
       "\n",
       "    .dataframe tbody tr th {\n",
       "        vertical-align: top;\n",
       "    }\n",
       "\n",
       "    .dataframe thead th {\n",
       "        text-align: right;\n",
       "    }\n",
       "</style>\n",
       "<table border=\"1\" class=\"dataframe\">\n",
       "  <thead>\n",
       "    <tr style=\"text-align: right;\">\n",
       "      <th></th>\n",
       "      <th>TIME</th>\n",
       "      <th>GEO</th>\n",
       "      <th>AGE</th>\n",
       "      <th>Value</th>\n",
       "    </tr>\n",
       "  </thead>\n",
       "  <tbody>\n",
       "    <tr>\n",
       "      <th>1</th>\n",
       "      <td>2019</td>\n",
       "      <td>European Union - 28 countries</td>\n",
       "      <td>16 years</td>\n",
       "      <td>5,235,779</td>\n",
       "    </tr>\n",
       "    <tr>\n",
       "      <th>2</th>\n",
       "      <td>2019</td>\n",
       "      <td>European Union - 28 countries</td>\n",
       "      <td>17 years</td>\n",
       "      <td>5,299,432</td>\n",
       "    </tr>\n",
       "    <tr>\n",
       "      <th>3</th>\n",
       "      <td>2019</td>\n",
       "      <td>European Union - 28 countries</td>\n",
       "      <td>18 years</td>\n",
       "      <td>5,466,860</td>\n",
       "    </tr>\n",
       "    <tr>\n",
       "      <th>4</th>\n",
       "      <td>2019</td>\n",
       "      <td>European Union - 28 countries</td>\n",
       "      <td>19 years</td>\n",
       "      <td>5,465,394</td>\n",
       "    </tr>\n",
       "    <tr>\n",
       "      <th>5</th>\n",
       "      <td>2019</td>\n",
       "      <td>European Union - 28 countries</td>\n",
       "      <td>20 years</td>\n",
       "      <td>5,551,222</td>\n",
       "    </tr>\n",
       "    <tr>\n",
       "      <th>...</th>\n",
       "      <td>...</td>\n",
       "      <td>...</td>\n",
       "      <td>...</td>\n",
       "      <td>...</td>\n",
       "    </tr>\n",
       "    <tr>\n",
       "      <th>97</th>\n",
       "      <td>2019</td>\n",
       "      <td>Belgium</td>\n",
       "      <td>26 years</td>\n",
       "      <td>150,466</td>\n",
       "    </tr>\n",
       "    <tr>\n",
       "      <th>98</th>\n",
       "      <td>2019</td>\n",
       "      <td>Belgium</td>\n",
       "      <td>27 years</td>\n",
       "      <td>153,268</td>\n",
       "    </tr>\n",
       "    <tr>\n",
       "      <th>99</th>\n",
       "      <td>2019</td>\n",
       "      <td>Belgium</td>\n",
       "      <td>28 years</td>\n",
       "      <td>153,383</td>\n",
       "    </tr>\n",
       "    <tr>\n",
       "      <th>100</th>\n",
       "      <td>2019</td>\n",
       "      <td>Belgium</td>\n",
       "      <td>29 years</td>\n",
       "      <td>151,211</td>\n",
       "    </tr>\n",
       "    <tr>\n",
       "      <th>101</th>\n",
       "      <td>2019</td>\n",
       "      <td>Belgium</td>\n",
       "      <td>30 years</td>\n",
       "      <td>150,986</td>\n",
       "    </tr>\n",
       "  </tbody>\n",
       "</table>\n",
       "<p>100 rows × 4 columns</p>\n",
       "</div>"
      ],
      "text/plain": [
       "     TIME                            GEO       AGE      Value\n",
       "1    2019  European Union - 28 countries  16 years  5,235,779\n",
       "2    2019  European Union - 28 countries  17 years  5,299,432\n",
       "3    2019  European Union - 28 countries  18 years  5,466,860\n",
       "4    2019  European Union - 28 countries  19 years  5,465,394\n",
       "5    2019  European Union - 28 countries  20 years  5,551,222\n",
       "..    ...                            ...       ...        ...\n",
       "97   2019                        Belgium  26 years    150,466\n",
       "98   2019                        Belgium  27 years    153,268\n",
       "99   2019                        Belgium  28 years    153,383\n",
       "100  2019                        Belgium  29 years    151,211\n",
       "101  2019                        Belgium  30 years    150,986\n",
       "\n",
       "[100 rows x 4 columns]"
      ]
     },
     "execution_count": 768,
     "metadata": {},
     "output_type": "execute_result"
    }
   ],
   "source": [
    "population = df [['TIME','GEO','AGE','Value']]\n",
    "population=population[population['AGE']!='Total']      #remove total\n",
    "\n",
    "population.head(100)"
   ]
  },
  {
   "cell_type": "code",
   "execution_count": 769,
   "metadata": {},
   "outputs": [],
   "source": [
    "#remove year from age\n",
    "\n",
    "asd=population['AGE'].str.split(' ',n = 0, expand = True)   #remove year \n",
    "age=asd[0]\n",
    "population['age']=age\n",
    "population['age']=population['age'].astype(int)            #convert age to int\n",
    "del population['AGE']"
   ]
  },
  {
   "cell_type": "code",
   "execution_count": 770,
   "metadata": {},
   "outputs": [],
   "source": [
    "#remove , from value\n",
    "def float_conversion(value_str):\n",
    "    value = float(value_str.replace(',',''))\n",
    "    return value\n",
    "population['Value'] = population['Value'].apply(float_conversion)"
   ]
  },
  {
   "cell_type": "code",
   "execution_count": 771,
   "metadata": {
    "scrolled": true
   },
   "outputs": [
    {
     "name": "stdout",
     "output_type": "stream",
     "text": [
      "<class 'pandas.core.frame.DataFrame'>\n",
      "Index: 2465 entries, 1 to 2493\n",
      "Data columns (total 4 columns):\n",
      " #   Column  Non-Null Count  Dtype  \n",
      "---  ------  --------------  -----  \n",
      " 0   TIME    2465 non-null   int64  \n",
      " 1   GEO     2465 non-null   object \n",
      " 2   Value   2465 non-null   float64\n",
      " 3   age     2465 non-null   int32  \n",
      "dtypes: float64(1), int32(1), int64(1), object(1)\n",
      "memory usage: 86.7+ KB\n"
     ]
    }
   ],
   "source": [
    "population.info()"
   ]
  },
  {
   "cell_type": "code",
   "execution_count": 772,
   "metadata": {},
   "outputs": [
    {
     "data": {
      "text/html": [
       "<div>\n",
       "<style scoped>\n",
       "    .dataframe tbody tr th:only-of-type {\n",
       "        vertical-align: middle;\n",
       "    }\n",
       "\n",
       "    .dataframe tbody tr th {\n",
       "        vertical-align: top;\n",
       "    }\n",
       "\n",
       "    .dataframe thead th {\n",
       "        text-align: right;\n",
       "    }\n",
       "</style>\n",
       "<table border=\"1\" class=\"dataframe\">\n",
       "  <thead>\n",
       "    <tr style=\"text-align: right;\">\n",
       "      <th></th>\n",
       "      <th>TIME</th>\n",
       "      <th>GEO</th>\n",
       "      <th>Value</th>\n",
       "      <th>age</th>\n",
       "      <th>birth_year</th>\n",
       "    </tr>\n",
       "  </thead>\n",
       "  <tbody>\n",
       "    <tr>\n",
       "      <th>1</th>\n",
       "      <td>2019</td>\n",
       "      <td>European Union - 28 countries</td>\n",
       "      <td>5235779.0</td>\n",
       "      <td>16</td>\n",
       "      <td>2003</td>\n",
       "    </tr>\n",
       "    <tr>\n",
       "      <th>2</th>\n",
       "      <td>2019</td>\n",
       "      <td>European Union - 28 countries</td>\n",
       "      <td>5299432.0</td>\n",
       "      <td>17</td>\n",
       "      <td>2002</td>\n",
       "    </tr>\n",
       "    <tr>\n",
       "      <th>3</th>\n",
       "      <td>2019</td>\n",
       "      <td>European Union - 28 countries</td>\n",
       "      <td>5466860.0</td>\n",
       "      <td>18</td>\n",
       "      <td>2001</td>\n",
       "    </tr>\n",
       "    <tr>\n",
       "      <th>4</th>\n",
       "      <td>2019</td>\n",
       "      <td>European Union - 28 countries</td>\n",
       "      <td>5465394.0</td>\n",
       "      <td>19</td>\n",
       "      <td>2000</td>\n",
       "    </tr>\n",
       "    <tr>\n",
       "      <th>5</th>\n",
       "      <td>2019</td>\n",
       "      <td>European Union - 28 countries</td>\n",
       "      <td>5551222.0</td>\n",
       "      <td>20</td>\n",
       "      <td>1999</td>\n",
       "    </tr>\n",
       "  </tbody>\n",
       "</table>\n",
       "</div>"
      ],
      "text/plain": [
       "   TIME                            GEO      Value  age  birth_year\n",
       "1  2019  European Union - 28 countries  5235779.0   16        2003\n",
       "2  2019  European Union - 28 countries  5299432.0   17        2002\n",
       "3  2019  European Union - 28 countries  5466860.0   18        2001\n",
       "4  2019  European Union - 28 countries  5465394.0   19        2000\n",
       "5  2019  European Union - 28 countries  5551222.0   20        1999"
      ]
     },
     "execution_count": 772,
     "metadata": {},
     "output_type": "execute_result"
    }
   ],
   "source": [
    "population['birth_year']=population['TIME']-population['age']\n",
    "population.head()"
   ]
  },
  {
   "cell_type": "code",
   "execution_count": 773,
   "metadata": {},
   "outputs": [
    {
     "data": {
      "text/html": [
       "<div>\n",
       "<style scoped>\n",
       "    .dataframe tbody tr th:only-of-type {\n",
       "        vertical-align: middle;\n",
       "    }\n",
       "\n",
       "    .dataframe tbody tr th {\n",
       "        vertical-align: top;\n",
       "    }\n",
       "\n",
       "    .dataframe thead th {\n",
       "        text-align: right;\n",
       "    }\n",
       "</style>\n",
       "<table border=\"1\" class=\"dataframe\">\n",
       "  <thead>\n",
       "    <tr style=\"text-align: right;\">\n",
       "      <th></th>\n",
       "      <th>TIME</th>\n",
       "      <th>GEO</th>\n",
       "      <th>Value</th>\n",
       "      <th>age</th>\n",
       "      <th>birth_year</th>\n",
       "      <th>Classification</th>\n",
       "    </tr>\n",
       "  </thead>\n",
       "  <tbody>\n",
       "    <tr>\n",
       "      <th>1</th>\n",
       "      <td>2019</td>\n",
       "      <td>European Union - 28 countries</td>\n",
       "      <td>5235779.0</td>\n",
       "      <td>16</td>\n",
       "      <td>2003</td>\n",
       "      <td>Generation_Z</td>\n",
       "    </tr>\n",
       "    <tr>\n",
       "      <th>2</th>\n",
       "      <td>2019</td>\n",
       "      <td>European Union - 28 countries</td>\n",
       "      <td>5299432.0</td>\n",
       "      <td>17</td>\n",
       "      <td>2002</td>\n",
       "      <td>Generation_Z</td>\n",
       "    </tr>\n",
       "    <tr>\n",
       "      <th>3</th>\n",
       "      <td>2019</td>\n",
       "      <td>European Union - 28 countries</td>\n",
       "      <td>5466860.0</td>\n",
       "      <td>18</td>\n",
       "      <td>2001</td>\n",
       "      <td>Generation_Z</td>\n",
       "    </tr>\n",
       "    <tr>\n",
       "      <th>4</th>\n",
       "      <td>2019</td>\n",
       "      <td>European Union - 28 countries</td>\n",
       "      <td>5465394.0</td>\n",
       "      <td>19</td>\n",
       "      <td>2000</td>\n",
       "      <td>Generation_Z</td>\n",
       "    </tr>\n",
       "    <tr>\n",
       "      <th>5</th>\n",
       "      <td>2019</td>\n",
       "      <td>European Union - 28 countries</td>\n",
       "      <td>5551222.0</td>\n",
       "      <td>20</td>\n",
       "      <td>1999</td>\n",
       "      <td>Generation_Z</td>\n",
       "    </tr>\n",
       "  </tbody>\n",
       "</table>\n",
       "</div>"
      ],
      "text/plain": [
       "   TIME                            GEO      Value  age  birth_year  \\\n",
       "1  2019  European Union - 28 countries  5235779.0   16        2003   \n",
       "2  2019  European Union - 28 countries  5299432.0   17        2002   \n",
       "3  2019  European Union - 28 countries  5466860.0   18        2001   \n",
       "4  2019  European Union - 28 countries  5465394.0   19        2000   \n",
       "5  2019  European Union - 28 countries  5551222.0   20        1999   \n",
       "\n",
       "  Classification  \n",
       "1   Generation_Z  \n",
       "2   Generation_Z  \n",
       "3   Generation_Z  \n",
       "4   Generation_Z  \n",
       "5   Generation_Z  "
      ]
     },
     "execution_count": 773,
     "metadata": {},
     "output_type": "execute_result"
    }
   ],
   "source": [
    "# create a list of our conditions\n",
    "conditions = [(population['birth_year'] >= 1995),(population['birth_year'] < 1995)]\n",
    "\n",
    "# create a list of the values we want to assign for each condition\n",
    "values = ['Generation_Z', 'Others']\n",
    "\n",
    "# create a new column and use np.select to assign values to it using our lists as arguments\n",
    "population['Classification'] = np.select(conditions, values)\n",
    "\n",
    "# display updated DataFrame\n",
    "population.head()"
   ]
  },
  {
   "cell_type": "code",
   "execution_count": 774,
   "metadata": {},
   "outputs": [
    {
     "data": {
      "text/html": [
       "<div>\n",
       "<style scoped>\n",
       "    .dataframe tbody tr th:only-of-type {\n",
       "        vertical-align: middle;\n",
       "    }\n",
       "\n",
       "    .dataframe tbody tr th {\n",
       "        vertical-align: top;\n",
       "    }\n",
       "\n",
       "    .dataframe thead th {\n",
       "        text-align: right;\n",
       "    }\n",
       "</style>\n",
       "<table border=\"1\" class=\"dataframe\">\n",
       "  <thead>\n",
       "    <tr style=\"text-align: right;\">\n",
       "      <th></th>\n",
       "      <th>Country</th>\n",
       "      <th>TIME</th>\n",
       "      <th>age</th>\n",
       "      <th>birth_year</th>\n",
       "      <th>number_people</th>\n",
       "      <th>Classification</th>\n",
       "    </tr>\n",
       "  </thead>\n",
       "  <tbody>\n",
       "    <tr>\n",
       "      <th>1</th>\n",
       "      <td>European Union - 28 countries</td>\n",
       "      <td>2019</td>\n",
       "      <td>16</td>\n",
       "      <td>2003</td>\n",
       "      <td>5235779.0</td>\n",
       "      <td>Generation_Z</td>\n",
       "    </tr>\n",
       "    <tr>\n",
       "      <th>2</th>\n",
       "      <td>European Union - 28 countries</td>\n",
       "      <td>2019</td>\n",
       "      <td>17</td>\n",
       "      <td>2002</td>\n",
       "      <td>5299432.0</td>\n",
       "      <td>Generation_Z</td>\n",
       "    </tr>\n",
       "    <tr>\n",
       "      <th>3</th>\n",
       "      <td>European Union - 28 countries</td>\n",
       "      <td>2019</td>\n",
       "      <td>18</td>\n",
       "      <td>2001</td>\n",
       "      <td>5466860.0</td>\n",
       "      <td>Generation_Z</td>\n",
       "    </tr>\n",
       "    <tr>\n",
       "      <th>4</th>\n",
       "      <td>European Union - 28 countries</td>\n",
       "      <td>2019</td>\n",
       "      <td>19</td>\n",
       "      <td>2000</td>\n",
       "      <td>5465394.0</td>\n",
       "      <td>Generation_Z</td>\n",
       "    </tr>\n",
       "    <tr>\n",
       "      <th>5</th>\n",
       "      <td>European Union - 28 countries</td>\n",
       "      <td>2019</td>\n",
       "      <td>20</td>\n",
       "      <td>1999</td>\n",
       "      <td>5551222.0</td>\n",
       "      <td>Generation_Z</td>\n",
       "    </tr>\n",
       "    <tr>\n",
       "      <th>6</th>\n",
       "      <td>European Union - 28 countries</td>\n",
       "      <td>2019</td>\n",
       "      <td>21</td>\n",
       "      <td>1998</td>\n",
       "      <td>5656744.0</td>\n",
       "      <td>Generation_Z</td>\n",
       "    </tr>\n",
       "    <tr>\n",
       "      <th>7</th>\n",
       "      <td>European Union - 28 countries</td>\n",
       "      <td>2019</td>\n",
       "      <td>22</td>\n",
       "      <td>1997</td>\n",
       "      <td>5740663.0</td>\n",
       "      <td>Generation_Z</td>\n",
       "    </tr>\n",
       "    <tr>\n",
       "      <th>8</th>\n",
       "      <td>European Union - 28 countries</td>\n",
       "      <td>2019</td>\n",
       "      <td>23</td>\n",
       "      <td>1996</td>\n",
       "      <td>5782370.0</td>\n",
       "      <td>Generation_Z</td>\n",
       "    </tr>\n",
       "    <tr>\n",
       "      <th>9</th>\n",
       "      <td>European Union - 28 countries</td>\n",
       "      <td>2019</td>\n",
       "      <td>24</td>\n",
       "      <td>1995</td>\n",
       "      <td>5910697.0</td>\n",
       "      <td>Generation_Z</td>\n",
       "    </tr>\n",
       "    <tr>\n",
       "      <th>10</th>\n",
       "      <td>European Union - 28 countries</td>\n",
       "      <td>2019</td>\n",
       "      <td>25</td>\n",
       "      <td>1994</td>\n",
       "      <td>6045948.0</td>\n",
       "      <td>Others</td>\n",
       "    </tr>\n",
       "  </tbody>\n",
       "</table>\n",
       "</div>"
      ],
      "text/plain": [
       "                          Country  TIME  age  birth_year  number_people  \\\n",
       "1   European Union - 28 countries  2019   16        2003      5235779.0   \n",
       "2   European Union - 28 countries  2019   17        2002      5299432.0   \n",
       "3   European Union - 28 countries  2019   18        2001      5466860.0   \n",
       "4   European Union - 28 countries  2019   19        2000      5465394.0   \n",
       "5   European Union - 28 countries  2019   20        1999      5551222.0   \n",
       "6   European Union - 28 countries  2019   21        1998      5656744.0   \n",
       "7   European Union - 28 countries  2019   22        1997      5740663.0   \n",
       "8   European Union - 28 countries  2019   23        1996      5782370.0   \n",
       "9   European Union - 28 countries  2019   24        1995      5910697.0   \n",
       "10  European Union - 28 countries  2019   25        1994      6045948.0   \n",
       "\n",
       "   Classification  \n",
       "1    Generation_Z  \n",
       "2    Generation_Z  \n",
       "3    Generation_Z  \n",
       "4    Generation_Z  \n",
       "5    Generation_Z  \n",
       "6    Generation_Z  \n",
       "7    Generation_Z  \n",
       "8    Generation_Z  \n",
       "9    Generation_Z  \n",
       "10         Others  "
      ]
     },
     "execution_count": 774,
     "metadata": {},
     "output_type": "execute_result"
    }
   ],
   "source": [
    "population=population[['GEO','TIME','age','birth_year','Value','Classification']]                         #change cloumn position\n",
    "population.columns=(['Country','TIME','age','birth_year','number_people','Classification'])             #change cloumn names\n",
    "population.head(10)"
   ]
  },
  {
   "cell_type": "code",
   "execution_count": 775,
   "metadata": {
    "scrolled": true
   },
   "outputs": [
    {
     "data": {
      "text/html": [
       "<div>\n",
       "<style scoped>\n",
       "    .dataframe tbody tr th:only-of-type {\n",
       "        vertical-align: middle;\n",
       "    }\n",
       "\n",
       "    .dataframe tbody tr th {\n",
       "        vertical-align: top;\n",
       "    }\n",
       "\n",
       "    .dataframe thead th {\n",
       "        text-align: right;\n",
       "    }\n",
       "</style>\n",
       "<table border=\"1\" class=\"dataframe\">\n",
       "  <thead>\n",
       "    <tr style=\"text-align: right;\">\n",
       "      <th></th>\n",
       "      <th>Country</th>\n",
       "      <th>TIME</th>\n",
       "      <th>age</th>\n",
       "      <th>birth_year</th>\n",
       "      <th>number_people</th>\n",
       "      <th>Classification</th>\n",
       "    </tr>\n",
       "  </thead>\n",
       "  <tbody>\n",
       "    <tr>\n",
       "      <th>3</th>\n",
       "      <td>European Union - 28 countries</td>\n",
       "      <td>2019</td>\n",
       "      <td>18</td>\n",
       "      <td>2001</td>\n",
       "      <td>5466860.0</td>\n",
       "      <td>Generation_Z</td>\n",
       "    </tr>\n",
       "    <tr>\n",
       "      <th>4</th>\n",
       "      <td>European Union - 28 countries</td>\n",
       "      <td>2019</td>\n",
       "      <td>19</td>\n",
       "      <td>2000</td>\n",
       "      <td>5465394.0</td>\n",
       "      <td>Generation_Z</td>\n",
       "    </tr>\n",
       "    <tr>\n",
       "      <th>5</th>\n",
       "      <td>European Union - 28 countries</td>\n",
       "      <td>2019</td>\n",
       "      <td>20</td>\n",
       "      <td>1999</td>\n",
       "      <td>5551222.0</td>\n",
       "      <td>Generation_Z</td>\n",
       "    </tr>\n",
       "    <tr>\n",
       "      <th>6</th>\n",
       "      <td>European Union - 28 countries</td>\n",
       "      <td>2019</td>\n",
       "      <td>21</td>\n",
       "      <td>1998</td>\n",
       "      <td>5656744.0</td>\n",
       "      <td>Generation_Z</td>\n",
       "    </tr>\n",
       "    <tr>\n",
       "      <th>7</th>\n",
       "      <td>European Union - 28 countries</td>\n",
       "      <td>2019</td>\n",
       "      <td>22</td>\n",
       "      <td>1997</td>\n",
       "      <td>5740663.0</td>\n",
       "      <td>Generation_Z</td>\n",
       "    </tr>\n",
       "    <tr>\n",
       "      <th>...</th>\n",
       "      <td>...</td>\n",
       "      <td>...</td>\n",
       "      <td>...</td>\n",
       "      <td>...</td>\n",
       "      <td>...</td>\n",
       "      <td>...</td>\n",
       "    </tr>\n",
       "    <tr>\n",
       "      <th>2489</th>\n",
       "      <td>United Kingdom</td>\n",
       "      <td>2019</td>\n",
       "      <td>96</td>\n",
       "      <td>1923</td>\n",
       "      <td>34324.0</td>\n",
       "      <td>Others</td>\n",
       "    </tr>\n",
       "    <tr>\n",
       "      <th>2490</th>\n",
       "      <td>United Kingdom</td>\n",
       "      <td>2019</td>\n",
       "      <td>97</td>\n",
       "      <td>1922</td>\n",
       "      <td>25398.0</td>\n",
       "      <td>Others</td>\n",
       "    </tr>\n",
       "    <tr>\n",
       "      <th>2491</th>\n",
       "      <td>United Kingdom</td>\n",
       "      <td>2019</td>\n",
       "      <td>98</td>\n",
       "      <td>1921</td>\n",
       "      <td>16642.0</td>\n",
       "      <td>Others</td>\n",
       "    </tr>\n",
       "    <tr>\n",
       "      <th>2492</th>\n",
       "      <td>United Kingdom</td>\n",
       "      <td>2019</td>\n",
       "      <td>99</td>\n",
       "      <td>1920</td>\n",
       "      <td>9125.0</td>\n",
       "      <td>Others</td>\n",
       "    </tr>\n",
       "    <tr>\n",
       "      <th>2493</th>\n",
       "      <td>United Kingdom</td>\n",
       "      <td>2019</td>\n",
       "      <td>100</td>\n",
       "      <td>1919</td>\n",
       "      <td>16165.0</td>\n",
       "      <td>Others</td>\n",
       "    </tr>\n",
       "  </tbody>\n",
       "</table>\n",
       "<p>2412 rows × 6 columns</p>\n",
       "</div>"
      ],
      "text/plain": [
       "                            Country  TIME  age  birth_year  number_people  \\\n",
       "3     European Union - 28 countries  2019   18        2001      5466860.0   \n",
       "4     European Union - 28 countries  2019   19        2000      5465394.0   \n",
       "5     European Union - 28 countries  2019   20        1999      5551222.0   \n",
       "6     European Union - 28 countries  2019   21        1998      5656744.0   \n",
       "7     European Union - 28 countries  2019   22        1997      5740663.0   \n",
       "...                             ...   ...  ...         ...            ...   \n",
       "2489                 United Kingdom  2019   96        1923        34324.0   \n",
       "2490                 United Kingdom  2019   97        1922        25398.0   \n",
       "2491                 United Kingdom  2019   98        1921        16642.0   \n",
       "2492                 United Kingdom  2019   99        1920         9125.0   \n",
       "2493                 United Kingdom  2019  100        1919        16165.0   \n",
       "\n",
       "     Classification  \n",
       "3      Generation_Z  \n",
       "4      Generation_Z  \n",
       "5      Generation_Z  \n",
       "6      Generation_Z  \n",
       "7      Generation_Z  \n",
       "...             ...  \n",
       "2489         Others  \n",
       "2490         Others  \n",
       "2491         Others  \n",
       "2492         Others  \n",
       "2493         Others  \n",
       "\n",
       "[2412 rows x 6 columns]"
      ]
     },
     "execution_count": 775,
     "metadata": {},
     "output_type": "execute_result"
    }
   ],
   "source": [
    "# Greece: 17                        remove 16\n",
    "# Austria and Malta: 16             dont remove\n",
    "# All others: 18                    remove 16 17\n",
    "\n",
    "remove16_17=population[((population.Country != 'Austria')&(population.Country != 'Malta') &( population.age == 16)|(population.Country != 'Austria')&(population.Country != 'Malta')&(population.Country != 'Greece') &( population.age == 17))].index\n",
    "final_data=population.drop(remove16_17)\n",
    "final_data.to_csv('final_data.csv')\n",
    "final_data"
   ]
  },
  {
   "cell_type": "code",
   "execution_count": 776,
   "metadata": {},
   "outputs": [
    {
     "data": {
      "text/plain": [
       "{'Austria',\n",
       " 'Belgium',\n",
       " 'Bulgaria',\n",
       " 'Croatia',\n",
       " 'Cyprus',\n",
       " 'Czechia',\n",
       " 'Denmark',\n",
       " 'Estonia',\n",
       " 'European Union - 28 countries',\n",
       " 'Finland',\n",
       " 'France',\n",
       " 'Germany',\n",
       " 'Greece',\n",
       " 'Hungary',\n",
       " 'Ireland',\n",
       " 'Italy',\n",
       " 'Latvia',\n",
       " 'Lithuania',\n",
       " 'Luxembourg',\n",
       " 'Malta',\n",
       " 'Netherlands',\n",
       " 'Poland',\n",
       " 'Portugal',\n",
       " 'Romania',\n",
       " 'Slovakia',\n",
       " 'Slovenia',\n",
       " 'Spain',\n",
       " 'Sweden',\n",
       " 'United Kingdom'}"
      ]
     },
     "execution_count": 776,
     "metadata": {},
     "output_type": "execute_result"
    }
   ],
   "source": [
    "countries_list=[]\n",
    "for country in final_data['Country'] :\n",
    "    countries_list.append(country)\n",
    "countries = set(countries_list)\n",
    "countries"
   ]
  },
  {
   "cell_type": "code",
   "execution_count": 777,
   "metadata": {
    "scrolled": true
   },
   "outputs": [],
   "source": [
    "voter_structures = []\n",
    "\n",
    "for country in countries:\n",
    "        country_dict = {}\n",
    "        country_dict['Country'] = country\n",
    "        total_voters = final_data[final_data['Country']==country]['number_people'].sum()\n",
    "        country_dict['total_voters'] = total_voters\n",
    "        # Generation_Z >=1995\n",
    "        Generation_Z = final_data[(final_data['Country']==country)&((final_data['birth_year']>=1995))]['number_people'].sum()\n",
    "        country_dict['Generation_Z_voters'] = Generation_Z\n",
    "        country_dict['Generation_Z_voters%'] = round(Generation_Z/total_voters*100,2)\n",
    "        # older_generations < 1995\n",
    "        older_generations = final_data[(final_data['Country']==country)&((final_data['birth_year']<1995))]['number_people'].sum()\n",
    "        country_dict['older_generations_voters'] = older_generations\n",
    "        country_dict['older_generations_voters%'] = round(older_generations/total_voters*100,2)\n",
    "        voter_structures.append(country_dict)\n"
   ]
  },
  {
   "cell_type": "code",
   "execution_count": 778,
   "metadata": {
    "scrolled": true
   },
   "outputs": [
    {
     "data": {
      "text/html": [
       "<div>\n",
       "<style scoped>\n",
       "    .dataframe tbody tr th:only-of-type {\n",
       "        vertical-align: middle;\n",
       "    }\n",
       "\n",
       "    .dataframe tbody tr th {\n",
       "        vertical-align: top;\n",
       "    }\n",
       "\n",
       "    .dataframe thead th {\n",
       "        text-align: right;\n",
       "    }\n",
       "</style>\n",
       "<table border=\"1\" class=\"dataframe\">\n",
       "  <thead>\n",
       "    <tr style=\"text-align: right;\">\n",
       "      <th></th>\n",
       "      <th>Country</th>\n",
       "      <th>total_voters</th>\n",
       "      <th>Generation_Z_voters</th>\n",
       "      <th>Generation_Z_voters%</th>\n",
       "      <th>older_generations_voters</th>\n",
       "      <th>older_generations_voters%</th>\n",
       "    </tr>\n",
       "  </thead>\n",
       "  <tbody>\n",
       "    <tr>\n",
       "      <th>12</th>\n",
       "      <td>European Union - 28 countries</td>\n",
       "      <td>418953478.0</td>\n",
       "      <td>39573950.0</td>\n",
       "      <td>9.45</td>\n",
       "      <td>379379528.0</td>\n",
       "      <td>90.55</td>\n",
       "    </tr>\n",
       "    <tr>\n",
       "      <th>20</th>\n",
       "      <td>Germany</td>\n",
       "      <td>70102621.0</td>\n",
       "      <td>6233563.0</td>\n",
       "      <td>8.89</td>\n",
       "      <td>63869058.0</td>\n",
       "      <td>91.11</td>\n",
       "    </tr>\n",
       "    <tr>\n",
       "      <th>7</th>\n",
       "      <td>United Kingdom</td>\n",
       "      <td>52837136.0</td>\n",
       "      <td>5855185.0</td>\n",
       "      <td>11.08</td>\n",
       "      <td>46981951.0</td>\n",
       "      <td>88.92</td>\n",
       "    </tr>\n",
       "    <tr>\n",
       "      <th>15</th>\n",
       "      <td>France</td>\n",
       "      <td>52732008.0</td>\n",
       "      <td>5730894.0</td>\n",
       "      <td>10.87</td>\n",
       "      <td>47001114.0</td>\n",
       "      <td>89.13</td>\n",
       "    </tr>\n",
       "    <tr>\n",
       "      <th>8</th>\n",
       "      <td>Italy</td>\n",
       "      <td>50974954.0</td>\n",
       "      <td>4132683.0</td>\n",
       "      <td>8.11</td>\n",
       "      <td>46842271.0</td>\n",
       "      <td>91.89</td>\n",
       "    </tr>\n",
       "    <tr>\n",
       "      <th>18</th>\n",
       "      <td>Spain</td>\n",
       "      <td>38190245.0</td>\n",
       "      <td>3162188.0</td>\n",
       "      <td>8.28</td>\n",
       "      <td>35028057.0</td>\n",
       "      <td>91.72</td>\n",
       "    </tr>\n",
       "    <tr>\n",
       "      <th>10</th>\n",
       "      <td>Poland</td>\n",
       "      <td>31131793.0</td>\n",
       "      <td>2836109.0</td>\n",
       "      <td>9.11</td>\n",
       "      <td>28295684.0</td>\n",
       "      <td>90.89</td>\n",
       "    </tr>\n",
       "    <tr>\n",
       "      <th>26</th>\n",
       "      <td>Netherlands</td>\n",
       "      <td>13929735.0</td>\n",
       "      <td>1507942.0</td>\n",
       "      <td>10.83</td>\n",
       "      <td>12421793.0</td>\n",
       "      <td>89.17</td>\n",
       "    </tr>\n",
       "    <tr>\n",
       "      <th>1</th>\n",
       "      <td>Romania</td>\n",
       "      <td>15802864.0</td>\n",
       "      <td>1473822.0</td>\n",
       "      <td>9.33</td>\n",
       "      <td>14329042.0</td>\n",
       "      <td>90.67</td>\n",
       "    </tr>\n",
       "    <tr>\n",
       "      <th>14</th>\n",
       "      <td>Belgium</td>\n",
       "      <td>9173132.0</td>\n",
       "      <td>928473.0</td>\n",
       "      <td>10.12</td>\n",
       "      <td>8244659.0</td>\n",
       "      <td>89.88</td>\n",
       "    </tr>\n",
       "    <tr>\n",
       "      <th>25</th>\n",
       "      <td>Austria</td>\n",
       "      <td>7566196.0</td>\n",
       "      <td>889047.0</td>\n",
       "      <td>11.75</td>\n",
       "      <td>6677149.0</td>\n",
       "      <td>88.25</td>\n",
       "    </tr>\n",
       "    <tr>\n",
       "      <th>0</th>\n",
       "      <td>Greece</td>\n",
       "      <td>8909593.0</td>\n",
       "      <td>862554.0</td>\n",
       "      <td>9.68</td>\n",
       "      <td>8047039.0</td>\n",
       "      <td>90.32</td>\n",
       "    </tr>\n",
       "    <tr>\n",
       "      <th>19</th>\n",
       "      <td>Sweden</td>\n",
       "      <td>8043825.0</td>\n",
       "      <td>805642.0</td>\n",
       "      <td>10.02</td>\n",
       "      <td>7238183.0</td>\n",
       "      <td>89.98</td>\n",
       "    </tr>\n",
       "    <tr>\n",
       "      <th>21</th>\n",
       "      <td>Portugal</td>\n",
       "      <td>8553231.0</td>\n",
       "      <td>776373.0</td>\n",
       "      <td>9.08</td>\n",
       "      <td>7776858.0</td>\n",
       "      <td>90.92</td>\n",
       "    </tr>\n",
       "    <tr>\n",
       "      <th>17</th>\n",
       "      <td>Hungary</td>\n",
       "      <td>8079687.0</td>\n",
       "      <td>759300.0</td>\n",
       "      <td>9.40</td>\n",
       "      <td>7320387.0</td>\n",
       "      <td>90.60</td>\n",
       "    </tr>\n",
       "    <tr>\n",
       "      <th>3</th>\n",
       "      <td>Czechia</td>\n",
       "      <td>8658033.0</td>\n",
       "      <td>672938.0</td>\n",
       "      <td>7.77</td>\n",
       "      <td>7985095.0</td>\n",
       "      <td>92.23</td>\n",
       "    </tr>\n",
       "    <tr>\n",
       "      <th>11</th>\n",
       "      <td>Denmark</td>\n",
       "      <td>4678256.0</td>\n",
       "      <td>522577.0</td>\n",
       "      <td>11.17</td>\n",
       "      <td>4155679.0</td>\n",
       "      <td>88.83</td>\n",
       "    </tr>\n",
       "    <tr>\n",
       "      <th>22</th>\n",
       "      <td>Bulgaria</td>\n",
       "      <td>5817244.0</td>\n",
       "      <td>441896.0</td>\n",
       "      <td>7.60</td>\n",
       "      <td>5375348.0</td>\n",
       "      <td>92.40</td>\n",
       "    </tr>\n",
       "    <tr>\n",
       "      <th>13</th>\n",
       "      <td>Finland</td>\n",
       "      <td>4467177.0</td>\n",
       "      <td>439907.0</td>\n",
       "      <td>9.85</td>\n",
       "      <td>4027270.0</td>\n",
       "      <td>90.15</td>\n",
       "    </tr>\n",
       "    <tr>\n",
       "      <th>4</th>\n",
       "      <td>Slovakia</td>\n",
       "      <td>4453611.0</td>\n",
       "      <td>417670.0</td>\n",
       "      <td>9.38</td>\n",
       "      <td>4035941.0</td>\n",
       "      <td>90.62</td>\n",
       "    </tr>\n",
       "    <tr>\n",
       "      <th>28</th>\n",
       "      <td>Ireland</td>\n",
       "      <td>3554162.0</td>\n",
       "      <td>350684.0</td>\n",
       "      <td>9.87</td>\n",
       "      <td>3203478.0</td>\n",
       "      <td>90.13</td>\n",
       "    </tr>\n",
       "    <tr>\n",
       "      <th>23</th>\n",
       "      <td>Croatia</td>\n",
       "      <td>3390190.0</td>\n",
       "      <td>331720.0</td>\n",
       "      <td>9.78</td>\n",
       "      <td>3058470.0</td>\n",
       "      <td>90.22</td>\n",
       "    </tr>\n",
       "    <tr>\n",
       "      <th>9</th>\n",
       "      <td>Lithuania</td>\n",
       "      <td>2284315.0</td>\n",
       "      <td>214533.0</td>\n",
       "      <td>9.39</td>\n",
       "      <td>2069782.0</td>\n",
       "      <td>90.61</td>\n",
       "    </tr>\n",
       "    <tr>\n",
       "      <th>24</th>\n",
       "      <td>Slovenia</td>\n",
       "      <td>1703139.0</td>\n",
       "      <td>137559.0</td>\n",
       "      <td>8.08</td>\n",
       "      <td>1565580.0</td>\n",
       "      <td>91.92</td>\n",
       "    </tr>\n",
       "    <tr>\n",
       "      <th>5</th>\n",
       "      <td>Latvia</td>\n",
       "      <td>1564165.0</td>\n",
       "      <td>118787.0</td>\n",
       "      <td>7.59</td>\n",
       "      <td>1445378.0</td>\n",
       "      <td>92.41</td>\n",
       "    </tr>\n",
       "    <tr>\n",
       "      <th>27</th>\n",
       "      <td>Estonia</td>\n",
       "      <td>1064265.0</td>\n",
       "      <td>86142.0</td>\n",
       "      <td>8.09</td>\n",
       "      <td>978123.0</td>\n",
       "      <td>91.91</td>\n",
       "    </tr>\n",
       "    <tr>\n",
       "      <th>2</th>\n",
       "      <td>Cyprus</td>\n",
       "      <td>702707.0</td>\n",
       "      <td>75318.0</td>\n",
       "      <td>10.72</td>\n",
       "      <td>627389.0</td>\n",
       "      <td>89.28</td>\n",
       "    </tr>\n",
       "    <tr>\n",
       "      <th>6</th>\n",
       "      <td>Luxembourg</td>\n",
       "      <td>496440.0</td>\n",
       "      <td>51858.0</td>\n",
       "      <td>10.45</td>\n",
       "      <td>444582.0</td>\n",
       "      <td>89.55</td>\n",
       "    </tr>\n",
       "    <tr>\n",
       "      <th>16</th>\n",
       "      <td>Malta</td>\n",
       "      <td>379393.0</td>\n",
       "      <td>45225.0</td>\n",
       "      <td>11.92</td>\n",
       "      <td>334168.0</td>\n",
       "      <td>88.08</td>\n",
       "    </tr>\n",
       "  </tbody>\n",
       "</table>\n",
       "</div>"
      ],
      "text/plain": [
       "                          Country  total_voters  Generation_Z_voters  \\\n",
       "12  European Union - 28 countries   418953478.0           39573950.0   \n",
       "20                        Germany    70102621.0            6233563.0   \n",
       "7                  United Kingdom    52837136.0            5855185.0   \n",
       "15                         France    52732008.0            5730894.0   \n",
       "8                           Italy    50974954.0            4132683.0   \n",
       "18                          Spain    38190245.0            3162188.0   \n",
       "10                         Poland    31131793.0            2836109.0   \n",
       "26                    Netherlands    13929735.0            1507942.0   \n",
       "1                         Romania    15802864.0            1473822.0   \n",
       "14                        Belgium     9173132.0             928473.0   \n",
       "25                        Austria     7566196.0             889047.0   \n",
       "0                          Greece     8909593.0             862554.0   \n",
       "19                         Sweden     8043825.0             805642.0   \n",
       "21                       Portugal     8553231.0             776373.0   \n",
       "17                        Hungary     8079687.0             759300.0   \n",
       "3                         Czechia     8658033.0             672938.0   \n",
       "11                        Denmark     4678256.0             522577.0   \n",
       "22                       Bulgaria     5817244.0             441896.0   \n",
       "13                        Finland     4467177.0             439907.0   \n",
       "4                        Slovakia     4453611.0             417670.0   \n",
       "28                        Ireland     3554162.0             350684.0   \n",
       "23                        Croatia     3390190.0             331720.0   \n",
       "9                       Lithuania     2284315.0             214533.0   \n",
       "24                       Slovenia     1703139.0             137559.0   \n",
       "5                          Latvia     1564165.0             118787.0   \n",
       "27                        Estonia     1064265.0              86142.0   \n",
       "2                          Cyprus      702707.0              75318.0   \n",
       "6                      Luxembourg      496440.0              51858.0   \n",
       "16                          Malta      379393.0              45225.0   \n",
       "\n",
       "    Generation_Z_voters%  older_generations_voters  older_generations_voters%  \n",
       "12                  9.45               379379528.0                      90.55  \n",
       "20                  8.89                63869058.0                      91.11  \n",
       "7                  11.08                46981951.0                      88.92  \n",
       "15                 10.87                47001114.0                      89.13  \n",
       "8                   8.11                46842271.0                      91.89  \n",
       "18                  8.28                35028057.0                      91.72  \n",
       "10                  9.11                28295684.0                      90.89  \n",
       "26                 10.83                12421793.0                      89.17  \n",
       "1                   9.33                14329042.0                      90.67  \n",
       "14                 10.12                 8244659.0                      89.88  \n",
       "25                 11.75                 6677149.0                      88.25  \n",
       "0                   9.68                 8047039.0                      90.32  \n",
       "19                 10.02                 7238183.0                      89.98  \n",
       "21                  9.08                 7776858.0                      90.92  \n",
       "17                  9.40                 7320387.0                      90.60  \n",
       "3                   7.77                 7985095.0                      92.23  \n",
       "11                 11.17                 4155679.0                      88.83  \n",
       "22                  7.60                 5375348.0                      92.40  \n",
       "13                  9.85                 4027270.0                      90.15  \n",
       "4                   9.38                 4035941.0                      90.62  \n",
       "28                  9.87                 3203478.0                      90.13  \n",
       "23                  9.78                 3058470.0                      90.22  \n",
       "9                   9.39                 2069782.0                      90.61  \n",
       "24                  8.08                 1565580.0                      91.92  \n",
       "5                   7.59                 1445378.0                      92.41  \n",
       "27                  8.09                  978123.0                      91.91  \n",
       "2                  10.72                  627389.0                      89.28  \n",
       "6                  10.45                  444582.0                      89.55  \n",
       "16                 11.92                  334168.0                      88.08  "
      ]
     },
     "execution_count": 778,
     "metadata": {},
     "output_type": "execute_result"
    }
   ],
   "source": [
    "Generation_Z = pd.DataFrame(voter_structures)\n",
    "#Generation_Z['Generation_Z_voters%']=float(Generation_Z['Generation_Z_voters%'])\n",
    "Generation_Z.sort_values(by='Generation_Z_voters', ascending = False)\n"
   ]
  },
  {
   "cell_type": "code",
   "execution_count": 779,
   "metadata": {},
   "outputs": [
    {
     "data": {
      "text/plain": [
       "Index([12], dtype='int64')"
      ]
     },
     "execution_count": 779,
     "metadata": {},
     "output_type": "execute_result"
    }
   ],
   "source": [
    "European_Union_28_countries = Generation_Z[((Generation_Z.Country == 'European Union - 28 countries'))].index\n",
    "European_Union_28_countries"
   ]
  },
  {
   "cell_type": "code",
   "execution_count": 780,
   "metadata": {},
   "outputs": [
    {
     "data": {
      "text/html": [
       "<div>\n",
       "<style scoped>\n",
       "    .dataframe tbody tr th:only-of-type {\n",
       "        vertical-align: middle;\n",
       "    }\n",
       "\n",
       "    .dataframe tbody tr th {\n",
       "        vertical-align: top;\n",
       "    }\n",
       "\n",
       "    .dataframe thead th {\n",
       "        text-align: right;\n",
       "    }\n",
       "</style>\n",
       "<table border=\"1\" class=\"dataframe\">\n",
       "  <thead>\n",
       "    <tr style=\"text-align: right;\">\n",
       "      <th></th>\n",
       "      <th>Country</th>\n",
       "      <th>total_voters</th>\n",
       "      <th>Generation_Z_voters</th>\n",
       "      <th>Generation_Z_voters%</th>\n",
       "      <th>older_generations_voters</th>\n",
       "      <th>older_generations_voters%</th>\n",
       "    </tr>\n",
       "  </thead>\n",
       "  <tbody>\n",
       "    <tr>\n",
       "      <th>16</th>\n",
       "      <td>Malta</td>\n",
       "      <td>379393.0</td>\n",
       "      <td>45225.0</td>\n",
       "      <td>11.92</td>\n",
       "      <td>334168.0</td>\n",
       "      <td>88.08</td>\n",
       "    </tr>\n",
       "    <tr>\n",
       "      <th>25</th>\n",
       "      <td>Austria</td>\n",
       "      <td>7566196.0</td>\n",
       "      <td>889047.0</td>\n",
       "      <td>11.75</td>\n",
       "      <td>6677149.0</td>\n",
       "      <td>88.25</td>\n",
       "    </tr>\n",
       "    <tr>\n",
       "      <th>11</th>\n",
       "      <td>Denmark</td>\n",
       "      <td>4678256.0</td>\n",
       "      <td>522577.0</td>\n",
       "      <td>11.17</td>\n",
       "      <td>4155679.0</td>\n",
       "      <td>88.83</td>\n",
       "    </tr>\n",
       "    <tr>\n",
       "      <th>7</th>\n",
       "      <td>United Kingdom</td>\n",
       "      <td>52837136.0</td>\n",
       "      <td>5855185.0</td>\n",
       "      <td>11.08</td>\n",
       "      <td>46981951.0</td>\n",
       "      <td>88.92</td>\n",
       "    </tr>\n",
       "    <tr>\n",
       "      <th>15</th>\n",
       "      <td>France</td>\n",
       "      <td>52732008.0</td>\n",
       "      <td>5730894.0</td>\n",
       "      <td>10.87</td>\n",
       "      <td>47001114.0</td>\n",
       "      <td>89.13</td>\n",
       "    </tr>\n",
       "    <tr>\n",
       "      <th>26</th>\n",
       "      <td>Netherlands</td>\n",
       "      <td>13929735.0</td>\n",
       "      <td>1507942.0</td>\n",
       "      <td>10.83</td>\n",
       "      <td>12421793.0</td>\n",
       "      <td>89.17</td>\n",
       "    </tr>\n",
       "    <tr>\n",
       "      <th>2</th>\n",
       "      <td>Cyprus</td>\n",
       "      <td>702707.0</td>\n",
       "      <td>75318.0</td>\n",
       "      <td>10.72</td>\n",
       "      <td>627389.0</td>\n",
       "      <td>89.28</td>\n",
       "    </tr>\n",
       "    <tr>\n",
       "      <th>6</th>\n",
       "      <td>Luxembourg</td>\n",
       "      <td>496440.0</td>\n",
       "      <td>51858.0</td>\n",
       "      <td>10.45</td>\n",
       "      <td>444582.0</td>\n",
       "      <td>89.55</td>\n",
       "    </tr>\n",
       "    <tr>\n",
       "      <th>14</th>\n",
       "      <td>Belgium</td>\n",
       "      <td>9173132.0</td>\n",
       "      <td>928473.0</td>\n",
       "      <td>10.12</td>\n",
       "      <td>8244659.0</td>\n",
       "      <td>89.88</td>\n",
       "    </tr>\n",
       "    <tr>\n",
       "      <th>19</th>\n",
       "      <td>Sweden</td>\n",
       "      <td>8043825.0</td>\n",
       "      <td>805642.0</td>\n",
       "      <td>10.02</td>\n",
       "      <td>7238183.0</td>\n",
       "      <td>89.98</td>\n",
       "    </tr>\n",
       "    <tr>\n",
       "      <th>28</th>\n",
       "      <td>Ireland</td>\n",
       "      <td>3554162.0</td>\n",
       "      <td>350684.0</td>\n",
       "      <td>9.87</td>\n",
       "      <td>3203478.0</td>\n",
       "      <td>90.13</td>\n",
       "    </tr>\n",
       "    <tr>\n",
       "      <th>13</th>\n",
       "      <td>Finland</td>\n",
       "      <td>4467177.0</td>\n",
       "      <td>439907.0</td>\n",
       "      <td>9.85</td>\n",
       "      <td>4027270.0</td>\n",
       "      <td>90.15</td>\n",
       "    </tr>\n",
       "    <tr>\n",
       "      <th>23</th>\n",
       "      <td>Croatia</td>\n",
       "      <td>3390190.0</td>\n",
       "      <td>331720.0</td>\n",
       "      <td>9.78</td>\n",
       "      <td>3058470.0</td>\n",
       "      <td>90.22</td>\n",
       "    </tr>\n",
       "    <tr>\n",
       "      <th>0</th>\n",
       "      <td>Greece</td>\n",
       "      <td>8909593.0</td>\n",
       "      <td>862554.0</td>\n",
       "      <td>9.68</td>\n",
       "      <td>8047039.0</td>\n",
       "      <td>90.32</td>\n",
       "    </tr>\n",
       "    <tr>\n",
       "      <th>17</th>\n",
       "      <td>Hungary</td>\n",
       "      <td>8079687.0</td>\n",
       "      <td>759300.0</td>\n",
       "      <td>9.40</td>\n",
       "      <td>7320387.0</td>\n",
       "      <td>90.60</td>\n",
       "    </tr>\n",
       "    <tr>\n",
       "      <th>9</th>\n",
       "      <td>Lithuania</td>\n",
       "      <td>2284315.0</td>\n",
       "      <td>214533.0</td>\n",
       "      <td>9.39</td>\n",
       "      <td>2069782.0</td>\n",
       "      <td>90.61</td>\n",
       "    </tr>\n",
       "    <tr>\n",
       "      <th>4</th>\n",
       "      <td>Slovakia</td>\n",
       "      <td>4453611.0</td>\n",
       "      <td>417670.0</td>\n",
       "      <td>9.38</td>\n",
       "      <td>4035941.0</td>\n",
       "      <td>90.62</td>\n",
       "    </tr>\n",
       "    <tr>\n",
       "      <th>1</th>\n",
       "      <td>Romania</td>\n",
       "      <td>15802864.0</td>\n",
       "      <td>1473822.0</td>\n",
       "      <td>9.33</td>\n",
       "      <td>14329042.0</td>\n",
       "      <td>90.67</td>\n",
       "    </tr>\n",
       "    <tr>\n",
       "      <th>10</th>\n",
       "      <td>Poland</td>\n",
       "      <td>31131793.0</td>\n",
       "      <td>2836109.0</td>\n",
       "      <td>9.11</td>\n",
       "      <td>28295684.0</td>\n",
       "      <td>90.89</td>\n",
       "    </tr>\n",
       "    <tr>\n",
       "      <th>21</th>\n",
       "      <td>Portugal</td>\n",
       "      <td>8553231.0</td>\n",
       "      <td>776373.0</td>\n",
       "      <td>9.08</td>\n",
       "      <td>7776858.0</td>\n",
       "      <td>90.92</td>\n",
       "    </tr>\n",
       "    <tr>\n",
       "      <th>20</th>\n",
       "      <td>Germany</td>\n",
       "      <td>70102621.0</td>\n",
       "      <td>6233563.0</td>\n",
       "      <td>8.89</td>\n",
       "      <td>63869058.0</td>\n",
       "      <td>91.11</td>\n",
       "    </tr>\n",
       "    <tr>\n",
       "      <th>18</th>\n",
       "      <td>Spain</td>\n",
       "      <td>38190245.0</td>\n",
       "      <td>3162188.0</td>\n",
       "      <td>8.28</td>\n",
       "      <td>35028057.0</td>\n",
       "      <td>91.72</td>\n",
       "    </tr>\n",
       "    <tr>\n",
       "      <th>8</th>\n",
       "      <td>Italy</td>\n",
       "      <td>50974954.0</td>\n",
       "      <td>4132683.0</td>\n",
       "      <td>8.11</td>\n",
       "      <td>46842271.0</td>\n",
       "      <td>91.89</td>\n",
       "    </tr>\n",
       "    <tr>\n",
       "      <th>27</th>\n",
       "      <td>Estonia</td>\n",
       "      <td>1064265.0</td>\n",
       "      <td>86142.0</td>\n",
       "      <td>8.09</td>\n",
       "      <td>978123.0</td>\n",
       "      <td>91.91</td>\n",
       "    </tr>\n",
       "    <tr>\n",
       "      <th>24</th>\n",
       "      <td>Slovenia</td>\n",
       "      <td>1703139.0</td>\n",
       "      <td>137559.0</td>\n",
       "      <td>8.08</td>\n",
       "      <td>1565580.0</td>\n",
       "      <td>91.92</td>\n",
       "    </tr>\n",
       "    <tr>\n",
       "      <th>3</th>\n",
       "      <td>Czechia</td>\n",
       "      <td>8658033.0</td>\n",
       "      <td>672938.0</td>\n",
       "      <td>7.77</td>\n",
       "      <td>7985095.0</td>\n",
       "      <td>92.23</td>\n",
       "    </tr>\n",
       "    <tr>\n",
       "      <th>22</th>\n",
       "      <td>Bulgaria</td>\n",
       "      <td>5817244.0</td>\n",
       "      <td>441896.0</td>\n",
       "      <td>7.60</td>\n",
       "      <td>5375348.0</td>\n",
       "      <td>92.40</td>\n",
       "    </tr>\n",
       "    <tr>\n",
       "      <th>5</th>\n",
       "      <td>Latvia</td>\n",
       "      <td>1564165.0</td>\n",
       "      <td>118787.0</td>\n",
       "      <td>7.59</td>\n",
       "      <td>1445378.0</td>\n",
       "      <td>92.41</td>\n",
       "    </tr>\n",
       "  </tbody>\n",
       "</table>\n",
       "</div>"
      ],
      "text/plain": [
       "           Country  total_voters  Generation_Z_voters  Generation_Z_voters%  \\\n",
       "16           Malta      379393.0              45225.0                 11.92   \n",
       "25         Austria     7566196.0             889047.0                 11.75   \n",
       "11         Denmark     4678256.0             522577.0                 11.17   \n",
       "7   United Kingdom    52837136.0            5855185.0                 11.08   \n",
       "15          France    52732008.0            5730894.0                 10.87   \n",
       "26     Netherlands    13929735.0            1507942.0                 10.83   \n",
       "2           Cyprus      702707.0              75318.0                 10.72   \n",
       "6       Luxembourg      496440.0              51858.0                 10.45   \n",
       "14         Belgium     9173132.0             928473.0                 10.12   \n",
       "19          Sweden     8043825.0             805642.0                 10.02   \n",
       "28         Ireland     3554162.0             350684.0                  9.87   \n",
       "13         Finland     4467177.0             439907.0                  9.85   \n",
       "23         Croatia     3390190.0             331720.0                  9.78   \n",
       "0           Greece     8909593.0             862554.0                  9.68   \n",
       "17         Hungary     8079687.0             759300.0                  9.40   \n",
       "9        Lithuania     2284315.0             214533.0                  9.39   \n",
       "4         Slovakia     4453611.0             417670.0                  9.38   \n",
       "1          Romania    15802864.0            1473822.0                  9.33   \n",
       "10          Poland    31131793.0            2836109.0                  9.11   \n",
       "21        Portugal     8553231.0             776373.0                  9.08   \n",
       "20         Germany    70102621.0            6233563.0                  8.89   \n",
       "18           Spain    38190245.0            3162188.0                  8.28   \n",
       "8            Italy    50974954.0            4132683.0                  8.11   \n",
       "27         Estonia     1064265.0              86142.0                  8.09   \n",
       "24        Slovenia     1703139.0             137559.0                  8.08   \n",
       "3          Czechia     8658033.0             672938.0                  7.77   \n",
       "22        Bulgaria     5817244.0             441896.0                  7.60   \n",
       "5           Latvia     1564165.0             118787.0                  7.59   \n",
       "\n",
       "    older_generations_voters  older_generations_voters%  \n",
       "16                  334168.0                      88.08  \n",
       "25                 6677149.0                      88.25  \n",
       "11                 4155679.0                      88.83  \n",
       "7                 46981951.0                      88.92  \n",
       "15                47001114.0                      89.13  \n",
       "26                12421793.0                      89.17  \n",
       "2                   627389.0                      89.28  \n",
       "6                   444582.0                      89.55  \n",
       "14                 8244659.0                      89.88  \n",
       "19                 7238183.0                      89.98  \n",
       "28                 3203478.0                      90.13  \n",
       "13                 4027270.0                      90.15  \n",
       "23                 3058470.0                      90.22  \n",
       "0                  8047039.0                      90.32  \n",
       "17                 7320387.0                      90.60  \n",
       "9                  2069782.0                      90.61  \n",
       "4                  4035941.0                      90.62  \n",
       "1                 14329042.0                      90.67  \n",
       "10                28295684.0                      90.89  \n",
       "21                 7776858.0                      90.92  \n",
       "20                63869058.0                      91.11  \n",
       "18                35028057.0                      91.72  \n",
       "8                 46842271.0                      91.89  \n",
       "27                  978123.0                      91.91  \n",
       "24                 1565580.0                      91.92  \n",
       "3                  7985095.0                      92.23  \n",
       "22                 5375348.0                      92.40  \n",
       "5                  1445378.0                      92.41  "
      ]
     },
     "execution_count": 780,
     "metadata": {},
     "output_type": "execute_result"
    }
   ],
   "source": [
    "all_countries=Generation_Z.drop(European_Union_28_countries)\n",
    "Generation_Z_voters_percenrtage=all_countries.sort_values(by='Generation_Z_voters%', ascending = False)\n",
    "Generation_Z_voters_percenrtage"
   ]
  },
  {
   "cell_type": "code",
   "execution_count": 781,
   "metadata": {},
   "outputs": [
    {
     "data": {
      "application/vnd.plotly.v1+json": {
       "config": {
        "plotlyServerURL": "https://plot.ly"
       },
       "data": [
        {
         "alignmentgroup": "True",
         "hovertemplate": "Country=%{x}<br>Generation_Z_voters%=%{marker.color}<extra></extra>",
         "legendgroup": "",
         "marker": {
          "color": [
           11.92,
           11.75,
           11.17,
           11.08,
           10.87,
           10.83,
           10.72,
           10.45,
           10.12,
           10.02,
           9.87,
           9.85,
           9.78,
           9.68,
           9.4,
           9.39,
           9.38,
           9.33,
           9.11,
           9.08,
           8.89,
           8.28,
           8.11,
           8.09,
           8.08,
           7.77,
           7.6,
           7.59
          ],
          "coloraxis": "coloraxis",
          "pattern": {
           "shape": ""
          }
         },
         "name": "",
         "offsetgroup": "",
         "orientation": "v",
         "showlegend": false,
         "textposition": "auto",
         "texttemplate": "%{y:.3s}",
         "type": "bar",
         "x": [
          "Malta",
          "Austria",
          "Denmark",
          "United Kingdom",
          "France",
          "Netherlands",
          "Cyprus",
          "Luxembourg",
          "Belgium",
          "Sweden",
          "Ireland",
          "Finland",
          "Croatia",
          "Greece",
          "Hungary",
          "Lithuania",
          "Slovakia",
          "Romania",
          "Poland",
          "Portugal",
          "Germany",
          "Spain",
          "Italy",
          "Estonia",
          "Slovenia",
          "Czechia",
          "Bulgaria",
          "Latvia"
         ],
         "xaxis": "x",
         "y": [
          11.92,
          11.75,
          11.17,
          11.08,
          10.87,
          10.83,
          10.72,
          10.45,
          10.12,
          10.02,
          9.87,
          9.85,
          9.78,
          9.68,
          9.4,
          9.39,
          9.38,
          9.33,
          9.11,
          9.08,
          8.89,
          8.28,
          8.11,
          8.09,
          8.08,
          7.77,
          7.6,
          7.59
         ],
         "yaxis": "y"
        }
       ],
       "layout": {
        "barmode": "relative",
        "coloraxis": {
         "colorbar": {
          "title": {
           "text": "Generation_Z_voters%"
          }
         },
         "colorscale": [
          [
           0,
           "#0d0887"
          ],
          [
           0.1111111111111111,
           "#46039f"
          ],
          [
           0.2222222222222222,
           "#7201a8"
          ],
          [
           0.3333333333333333,
           "#9c179e"
          ],
          [
           0.4444444444444444,
           "#bd3786"
          ],
          [
           0.5555555555555556,
           "#d8576b"
          ],
          [
           0.6666666666666666,
           "#ed7953"
          ],
          [
           0.7777777777777778,
           "#fb9f3a"
          ],
          [
           0.8888888888888888,
           "#fdca26"
          ],
          [
           1,
           "#f0f921"
          ]
         ]
        },
        "height": 700,
        "legend": {
         "tracegroupgap": 0
        },
        "template": {
         "data": {
          "bar": [
           {
            "error_x": {
             "color": "#2a3f5f"
            },
            "error_y": {
             "color": "#2a3f5f"
            },
            "marker": {
             "line": {
              "color": "#E5ECF6",
              "width": 0.5
             },
             "pattern": {
              "fillmode": "overlay",
              "size": 10,
              "solidity": 0.2
             }
            },
            "type": "bar"
           }
          ],
          "barpolar": [
           {
            "marker": {
             "line": {
              "color": "#E5ECF6",
              "width": 0.5
             },
             "pattern": {
              "fillmode": "overlay",
              "size": 10,
              "solidity": 0.2
             }
            },
            "type": "barpolar"
           }
          ],
          "carpet": [
           {
            "aaxis": {
             "endlinecolor": "#2a3f5f",
             "gridcolor": "white",
             "linecolor": "white",
             "minorgridcolor": "white",
             "startlinecolor": "#2a3f5f"
            },
            "baxis": {
             "endlinecolor": "#2a3f5f",
             "gridcolor": "white",
             "linecolor": "white",
             "minorgridcolor": "white",
             "startlinecolor": "#2a3f5f"
            },
            "type": "carpet"
           }
          ],
          "choropleth": [
           {
            "colorbar": {
             "outlinewidth": 0,
             "ticks": ""
            },
            "type": "choropleth"
           }
          ],
          "contour": [
           {
            "colorbar": {
             "outlinewidth": 0,
             "ticks": ""
            },
            "colorscale": [
             [
              0,
              "#0d0887"
             ],
             [
              0.1111111111111111,
              "#46039f"
             ],
             [
              0.2222222222222222,
              "#7201a8"
             ],
             [
              0.3333333333333333,
              "#9c179e"
             ],
             [
              0.4444444444444444,
              "#bd3786"
             ],
             [
              0.5555555555555556,
              "#d8576b"
             ],
             [
              0.6666666666666666,
              "#ed7953"
             ],
             [
              0.7777777777777778,
              "#fb9f3a"
             ],
             [
              0.8888888888888888,
              "#fdca26"
             ],
             [
              1,
              "#f0f921"
             ]
            ],
            "type": "contour"
           }
          ],
          "contourcarpet": [
           {
            "colorbar": {
             "outlinewidth": 0,
             "ticks": ""
            },
            "type": "contourcarpet"
           }
          ],
          "heatmap": [
           {
            "colorbar": {
             "outlinewidth": 0,
             "ticks": ""
            },
            "colorscale": [
             [
              0,
              "#0d0887"
             ],
             [
              0.1111111111111111,
              "#46039f"
             ],
             [
              0.2222222222222222,
              "#7201a8"
             ],
             [
              0.3333333333333333,
              "#9c179e"
             ],
             [
              0.4444444444444444,
              "#bd3786"
             ],
             [
              0.5555555555555556,
              "#d8576b"
             ],
             [
              0.6666666666666666,
              "#ed7953"
             ],
             [
              0.7777777777777778,
              "#fb9f3a"
             ],
             [
              0.8888888888888888,
              "#fdca26"
             ],
             [
              1,
              "#f0f921"
             ]
            ],
            "type": "heatmap"
           }
          ],
          "heatmapgl": [
           {
            "colorbar": {
             "outlinewidth": 0,
             "ticks": ""
            },
            "colorscale": [
             [
              0,
              "#0d0887"
             ],
             [
              0.1111111111111111,
              "#46039f"
             ],
             [
              0.2222222222222222,
              "#7201a8"
             ],
             [
              0.3333333333333333,
              "#9c179e"
             ],
             [
              0.4444444444444444,
              "#bd3786"
             ],
             [
              0.5555555555555556,
              "#d8576b"
             ],
             [
              0.6666666666666666,
              "#ed7953"
             ],
             [
              0.7777777777777778,
              "#fb9f3a"
             ],
             [
              0.8888888888888888,
              "#fdca26"
             ],
             [
              1,
              "#f0f921"
             ]
            ],
            "type": "heatmapgl"
           }
          ],
          "histogram": [
           {
            "marker": {
             "pattern": {
              "fillmode": "overlay",
              "size": 10,
              "solidity": 0.2
             }
            },
            "type": "histogram"
           }
          ],
          "histogram2d": [
           {
            "colorbar": {
             "outlinewidth": 0,
             "ticks": ""
            },
            "colorscale": [
             [
              0,
              "#0d0887"
             ],
             [
              0.1111111111111111,
              "#46039f"
             ],
             [
              0.2222222222222222,
              "#7201a8"
             ],
             [
              0.3333333333333333,
              "#9c179e"
             ],
             [
              0.4444444444444444,
              "#bd3786"
             ],
             [
              0.5555555555555556,
              "#d8576b"
             ],
             [
              0.6666666666666666,
              "#ed7953"
             ],
             [
              0.7777777777777778,
              "#fb9f3a"
             ],
             [
              0.8888888888888888,
              "#fdca26"
             ],
             [
              1,
              "#f0f921"
             ]
            ],
            "type": "histogram2d"
           }
          ],
          "histogram2dcontour": [
           {
            "colorbar": {
             "outlinewidth": 0,
             "ticks": ""
            },
            "colorscale": [
             [
              0,
              "#0d0887"
             ],
             [
              0.1111111111111111,
              "#46039f"
             ],
             [
              0.2222222222222222,
              "#7201a8"
             ],
             [
              0.3333333333333333,
              "#9c179e"
             ],
             [
              0.4444444444444444,
              "#bd3786"
             ],
             [
              0.5555555555555556,
              "#d8576b"
             ],
             [
              0.6666666666666666,
              "#ed7953"
             ],
             [
              0.7777777777777778,
              "#fb9f3a"
             ],
             [
              0.8888888888888888,
              "#fdca26"
             ],
             [
              1,
              "#f0f921"
             ]
            ],
            "type": "histogram2dcontour"
           }
          ],
          "mesh3d": [
           {
            "colorbar": {
             "outlinewidth": 0,
             "ticks": ""
            },
            "type": "mesh3d"
           }
          ],
          "parcoords": [
           {
            "line": {
             "colorbar": {
              "outlinewidth": 0,
              "ticks": ""
             }
            },
            "type": "parcoords"
           }
          ],
          "pie": [
           {
            "automargin": true,
            "type": "pie"
           }
          ],
          "scatter": [
           {
            "fillpattern": {
             "fillmode": "overlay",
             "size": 10,
             "solidity": 0.2
            },
            "type": "scatter"
           }
          ],
          "scatter3d": [
           {
            "line": {
             "colorbar": {
              "outlinewidth": 0,
              "ticks": ""
             }
            },
            "marker": {
             "colorbar": {
              "outlinewidth": 0,
              "ticks": ""
             }
            },
            "type": "scatter3d"
           }
          ],
          "scattercarpet": [
           {
            "marker": {
             "colorbar": {
              "outlinewidth": 0,
              "ticks": ""
             }
            },
            "type": "scattercarpet"
           }
          ],
          "scattergeo": [
           {
            "marker": {
             "colorbar": {
              "outlinewidth": 0,
              "ticks": ""
             }
            },
            "type": "scattergeo"
           }
          ],
          "scattergl": [
           {
            "marker": {
             "colorbar": {
              "outlinewidth": 0,
              "ticks": ""
             }
            },
            "type": "scattergl"
           }
          ],
          "scattermapbox": [
           {
            "marker": {
             "colorbar": {
              "outlinewidth": 0,
              "ticks": ""
             }
            },
            "type": "scattermapbox"
           }
          ],
          "scatterpolar": [
           {
            "marker": {
             "colorbar": {
              "outlinewidth": 0,
              "ticks": ""
             }
            },
            "type": "scatterpolar"
           }
          ],
          "scatterpolargl": [
           {
            "marker": {
             "colorbar": {
              "outlinewidth": 0,
              "ticks": ""
             }
            },
            "type": "scatterpolargl"
           }
          ],
          "scatterternary": [
           {
            "marker": {
             "colorbar": {
              "outlinewidth": 0,
              "ticks": ""
             }
            },
            "type": "scatterternary"
           }
          ],
          "surface": [
           {
            "colorbar": {
             "outlinewidth": 0,
             "ticks": ""
            },
            "colorscale": [
             [
              0,
              "#0d0887"
             ],
             [
              0.1111111111111111,
              "#46039f"
             ],
             [
              0.2222222222222222,
              "#7201a8"
             ],
             [
              0.3333333333333333,
              "#9c179e"
             ],
             [
              0.4444444444444444,
              "#bd3786"
             ],
             [
              0.5555555555555556,
              "#d8576b"
             ],
             [
              0.6666666666666666,
              "#ed7953"
             ],
             [
              0.7777777777777778,
              "#fb9f3a"
             ],
             [
              0.8888888888888888,
              "#fdca26"
             ],
             [
              1,
              "#f0f921"
             ]
            ],
            "type": "surface"
           }
          ],
          "table": [
           {
            "cells": {
             "fill": {
              "color": "#EBF0F8"
             },
             "line": {
              "color": "white"
             }
            },
            "header": {
             "fill": {
              "color": "#C8D4E3"
             },
             "line": {
              "color": "white"
             }
            },
            "type": "table"
           }
          ]
         },
         "layout": {
          "annotationdefaults": {
           "arrowcolor": "#2a3f5f",
           "arrowhead": 0,
           "arrowwidth": 1
          },
          "autotypenumbers": "strict",
          "coloraxis": {
           "colorbar": {
            "outlinewidth": 0,
            "ticks": ""
           }
          },
          "colorscale": {
           "diverging": [
            [
             0,
             "#8e0152"
            ],
            [
             0.1,
             "#c51b7d"
            ],
            [
             0.2,
             "#de77ae"
            ],
            [
             0.3,
             "#f1b6da"
            ],
            [
             0.4,
             "#fde0ef"
            ],
            [
             0.5,
             "#f7f7f7"
            ],
            [
             0.6,
             "#e6f5d0"
            ],
            [
             0.7,
             "#b8e186"
            ],
            [
             0.8,
             "#7fbc41"
            ],
            [
             0.9,
             "#4d9221"
            ],
            [
             1,
             "#276419"
            ]
           ],
           "sequential": [
            [
             0,
             "#0d0887"
            ],
            [
             0.1111111111111111,
             "#46039f"
            ],
            [
             0.2222222222222222,
             "#7201a8"
            ],
            [
             0.3333333333333333,
             "#9c179e"
            ],
            [
             0.4444444444444444,
             "#bd3786"
            ],
            [
             0.5555555555555556,
             "#d8576b"
            ],
            [
             0.6666666666666666,
             "#ed7953"
            ],
            [
             0.7777777777777778,
             "#fb9f3a"
            ],
            [
             0.8888888888888888,
             "#fdca26"
            ],
            [
             1,
             "#f0f921"
            ]
           ],
           "sequentialminus": [
            [
             0,
             "#0d0887"
            ],
            [
             0.1111111111111111,
             "#46039f"
            ],
            [
             0.2222222222222222,
             "#7201a8"
            ],
            [
             0.3333333333333333,
             "#9c179e"
            ],
            [
             0.4444444444444444,
             "#bd3786"
            ],
            [
             0.5555555555555556,
             "#d8576b"
            ],
            [
             0.6666666666666666,
             "#ed7953"
            ],
            [
             0.7777777777777778,
             "#fb9f3a"
            ],
            [
             0.8888888888888888,
             "#fdca26"
            ],
            [
             1,
             "#f0f921"
            ]
           ]
          },
          "colorway": [
           "#636efa",
           "#EF553B",
           "#00cc96",
           "#ab63fa",
           "#FFA15A",
           "#19d3f3",
           "#FF6692",
           "#B6E880",
           "#FF97FF",
           "#FECB52"
          ],
          "font": {
           "color": "#2a3f5f"
          },
          "geo": {
           "bgcolor": "white",
           "lakecolor": "white",
           "landcolor": "#E5ECF6",
           "showlakes": true,
           "showland": true,
           "subunitcolor": "white"
          },
          "hoverlabel": {
           "align": "left"
          },
          "hovermode": "closest",
          "mapbox": {
           "style": "light"
          },
          "paper_bgcolor": "white",
          "plot_bgcolor": "#E5ECF6",
          "polar": {
           "angularaxis": {
            "gridcolor": "white",
            "linecolor": "white",
            "ticks": ""
           },
           "bgcolor": "#E5ECF6",
           "radialaxis": {
            "gridcolor": "white",
            "linecolor": "white",
            "ticks": ""
           }
          },
          "scene": {
           "xaxis": {
            "backgroundcolor": "#E5ECF6",
            "gridcolor": "white",
            "gridwidth": 2,
            "linecolor": "white",
            "showbackground": true,
            "ticks": "",
            "zerolinecolor": "white"
           },
           "yaxis": {
            "backgroundcolor": "#E5ECF6",
            "gridcolor": "white",
            "gridwidth": 2,
            "linecolor": "white",
            "showbackground": true,
            "ticks": "",
            "zerolinecolor": "white"
           },
           "zaxis": {
            "backgroundcolor": "#E5ECF6",
            "gridcolor": "white",
            "gridwidth": 2,
            "linecolor": "white",
            "showbackground": true,
            "ticks": "",
            "zerolinecolor": "white"
           }
          },
          "shapedefaults": {
           "line": {
            "color": "#2a3f5f"
           }
          },
          "ternary": {
           "aaxis": {
            "gridcolor": "white",
            "linecolor": "white",
            "ticks": ""
           },
           "baxis": {
            "gridcolor": "white",
            "linecolor": "white",
            "ticks": ""
           },
           "bgcolor": "#E5ECF6",
           "caxis": {
            "gridcolor": "white",
            "linecolor": "white",
            "ticks": ""
           }
          },
          "title": {
           "x": 0.05
          },
          "xaxis": {
           "automargin": true,
           "gridcolor": "white",
           "linecolor": "white",
           "ticks": "",
           "title": {
            "standoff": 15
           },
           "zerolinecolor": "white",
           "zerolinewidth": 2
          },
          "yaxis": {
           "automargin": true,
           "gridcolor": "white",
           "linecolor": "white",
           "ticks": "",
           "title": {
            "standoff": 15
           },
           "zerolinecolor": "white",
           "zerolinewidth": 2
          }
         }
        },
        "title": {
         "text": "Percentage for Generation Z voters in 2019 EU Election per each Country."
        },
        "width": 1300,
        "xaxis": {
         "anchor": "y",
         "autorange": true,
         "domain": [
          0,
          1
         ],
         "range": [
          -0.5,
          27.5
         ],
         "title": {
          "text": "Country"
         },
         "type": "category"
        },
        "yaxis": {
         "anchor": "x",
         "autorange": true,
         "domain": [
          0,
          1
         ],
         "range": [
          0,
          12.547368421052632
         ],
         "title": {
          "text": "Generation_Z_voters%"
         },
         "type": "linear"
        }
       }
      },
      "image/png": "[encoded data removed]",
      "text/html": [
       "<div>                            <div id=\"b66272ac-838f-4b94-b2a4-b111587dc0de\" class=\"plotly-graph-div\" style=\"height:700px; width:1300px;\"></div>            <script type=\"text/javascript\">                require([\"plotly\"], function(Plotly) {                    window.PLOTLYENV=window.PLOTLYENV || {};                                    if (document.getElementById(\"b66272ac-838f-4b94-b2a4-b111587dc0de\")) {                    Plotly.newPlot(                        \"b66272ac-838f-4b94-b2a4-b111587dc0de\",                        [{\"alignmentgroup\":\"True\",\"hovertemplate\":\"Country=%{x}<br>Generation_Z_voters%=%{marker.color}<extra></extra>\",\"legendgroup\":\"\",\"marker\":{\"color\":[11.92,11.75,11.17,11.08,10.87,10.83,10.72,10.45,10.12,10.02,9.87,9.85,9.78,9.68,9.4,9.39,9.38,9.33,9.11,9.08,8.89,8.28,8.11,8.09,8.08,7.77,7.6,7.59],\"coloraxis\":\"coloraxis\",\"pattern\":{\"shape\":\"\"}},\"name\":\"\",\"offsetgroup\":\"\",\"orientation\":\"v\",\"showlegend\":false,\"textposition\":\"auto\",\"texttemplate\":\"%{y:.3s}\",\"x\":[\"Malta\",\"Austria\",\"Denmark\",\"United Kingdom\",\"France\",\"Netherlands\",\"Cyprus\",\"Luxembourg\",\"Belgium\",\"Sweden\",\"Ireland\",\"Finland\",\"Croatia\",\"Greece\",\"Hungary\",\"Lithuania\",\"Slovakia\",\"Romania\",\"Poland\",\"Portugal\",\"Germany\",\"Spain\",\"Italy\",\"Estonia\",\"Slovenia\",\"Czechia\",\"Bulgaria\",\"Latvia\"],\"xaxis\":\"x\",\"y\":[11.92,11.75,11.17,11.08,10.87,10.83,10.72,10.45,10.12,10.02,9.87,9.85,9.78,9.68,9.4,9.39,9.38,9.33,9.11,9.08,8.89,8.28,8.11,8.09,8.08,7.77,7.6,7.59],\"yaxis\":\"y\",\"type\":\"bar\"}],                        {\"template\":{\"data\":{\"histogram2dcontour\":[{\"type\":\"histogram2dcontour\",\"colorbar\":{\"outlinewidth\":0,\"ticks\":\"\"},\"colorscale\":[[0.0,\"#0d0887\"],[0.1111111111111111,\"#46039f\"],[0.2222222222222222,\"#7201a8\"],[0.3333333333333333,\"#9c179e\"],[0.4444444444444444,\"#bd3786\"],[0.5555555555555556,\"#d8576b\"],[0.6666666666666666,\"#ed7953\"],[0.7777777777777778,\"#fb9f3a\"],[0.8888888888888888,\"#fdca26\"],[1.0,\"#f0f921\"]]}],\"choropleth\":[{\"type\":\"choropleth\",\"colorbar\":{\"outlinewidth\":0,\"ticks\":\"\"}}],\"histogram2d\":[{\"type\":\"histogram2d\",\"colorbar\":{\"outlinewidth\":0,\"ticks\":\"\"},\"colorscale\":[[0.0,\"#0d0887\"],[0.1111111111111111,\"#46039f\"],[0.2222222222222222,\"#7201a8\"],[0.3333333333333333,\"#9c179e\"],[0.4444444444444444,\"#bd3786\"],[0.5555555555555556,\"#d8576b\"],[0.6666666666666666,\"#ed7953\"],[0.7777777777777778,\"#fb9f3a\"],[0.8888888888888888,\"#fdca26\"],[1.0,\"#f0f921\"]]}],\"heatmap\":[{\"type\":\"heatmap\",\"colorbar\":{\"outlinewidth\":0,\"ticks\":\"\"},\"colorscale\":[[0.0,\"#0d0887\"],[0.1111111111111111,\"#46039f\"],[0.2222222222222222,\"#7201a8\"],[0.3333333333333333,\"#9c179e\"],[0.4444444444444444,\"#bd3786\"],[0.5555555555555556,\"#d8576b\"],[0.6666666666666666,\"#ed7953\"],[0.7777777777777778,\"#fb9f3a\"],[0.8888888888888888,\"#fdca26\"],[1.0,\"#f0f921\"]]}],\"heatmapgl\":[{\"type\":\"heatmapgl\",\"colorbar\":{\"outlinewidth\":0,\"ticks\":\"\"},\"colorscale\":[[0.0,\"#0d0887\"],[0.1111111111111111,\"#46039f\"],[0.2222222222222222,\"#7201a8\"],[0.3333333333333333,\"#9c179e\"],[0.4444444444444444,\"#bd3786\"],[0.5555555555555556,\"#d8576b\"],[0.6666666666666666,\"#ed7953\"],[0.7777777777777778,\"#fb9f3a\"],[0.8888888888888888,\"#fdca26\"],[1.0,\"#f0f921\"]]}],\"contourcarpet\":[{\"type\":\"contourcarpet\",\"colorbar\":{\"outlinewidth\":0,\"ticks\":\"\"}}],\"contour\":[{\"type\":\"contour\",\"colorbar\":{\"outlinewidth\":0,\"ticks\":\"\"},\"colorscale\":[[0.0,\"#0d0887\"],[0.1111111111111111,\"#46039f\"],[0.2222222222222222,\"#7201a8\"],[0.3333333333333333,\"#9c179e\"],[0.4444444444444444,\"#bd3786\"],[0.5555555555555556,\"#d8576b\"],[0.6666666666666666,\"#ed7953\"],[0.7777777777777778,\"#fb9f3a\"],[0.8888888888888888,\"#fdca26\"],[1.0,\"#f0f921\"]]}],\"surface\":[{\"type\":\"surface\",\"colorbar\":{\"outlinewidth\":0,\"ticks\":\"\"},\"colorscale\":[[0.0,\"#0d0887\"],[0.1111111111111111,\"#46039f\"],[0.2222222222222222,\"#7201a8\"],[0.3333333333333333,\"#9c179e\"],[0.4444444444444444,\"#bd3786\"],[0.5555555555555556,\"#d8576b\"],[0.6666666666666666,\"#ed7953\"],[0.7777777777777778,\"#fb9f3a\"],[0.8888888888888888,\"#fdca26\"],[1.0,\"#f0f921\"]]}],\"mesh3d\":[{\"type\":\"mesh3d\",\"colorbar\":{\"outlinewidth\":0,\"ticks\":\"\"}}],\"scatter\":[{\"fillpattern\":{\"fillmode\":\"overlay\",\"size\":10,\"solidity\":0.2},\"type\":\"scatter\"}],\"parcoords\":[{\"type\":\"parcoords\",\"line\":{\"colorbar\":{\"outlinewidth\":0,\"ticks\":\"\"}}}],\"scatterpolargl\":[{\"type\":\"scatterpolargl\",\"marker\":{\"colorbar\":{\"outlinewidth\":0,\"ticks\":\"\"}}}],\"bar\":[{\"error_x\":{\"color\":\"#2a3f5f\"},\"error_y\":{\"color\":\"#2a3f5f\"},\"marker\":{\"line\":{\"color\":\"#E5ECF6\",\"width\":0.5},\"pattern\":{\"fillmode\":\"overlay\",\"size\":10,\"solidity\":0.2}},\"type\":\"bar\"}],\"scattergeo\":[{\"type\":\"scattergeo\",\"marker\":{\"colorbar\":{\"outlinewidth\":0,\"ticks\":\"\"}}}],\"scatterpolar\":[{\"type\":\"scatterpolar\",\"marker\":{\"colorbar\":{\"outlinewidth\":0,\"ticks\":\"\"}}}],\"histogram\":[{\"marker\":{\"pattern\":{\"fillmode\":\"overlay\",\"size\":10,\"solidity\":0.2}},\"type\":\"histogram\"}],\"scattergl\":[{\"type\":\"scattergl\",\"marker\":{\"colorbar\":{\"outlinewidth\":0,\"ticks\":\"\"}}}],\"scatter3d\":[{\"type\":\"scatter3d\",\"line\":{\"colorbar\":{\"outlinewidth\":0,\"ticks\":\"\"}},\"marker\":{\"colorbar\":{\"outlinewidth\":0,\"ticks\":\"\"}}}],\"scattermapbox\":[{\"type\":\"scattermapbox\",\"marker\":{\"colorbar\":{\"outlinewidth\":0,\"ticks\":\"\"}}}],\"scatterternary\":[{\"type\":\"scatterternary\",\"marker\":{\"colorbar\":{\"outlinewidth\":0,\"ticks\":\"\"}}}],\"scattercarpet\":[{\"type\":\"scattercarpet\",\"marker\":{\"colorbar\":{\"outlinewidth\":0,\"ticks\":\"\"}}}],\"carpet\":[{\"aaxis\":{\"endlinecolor\":\"#2a3f5f\",\"gridcolor\":\"white\",\"linecolor\":\"white\",\"minorgridcolor\":\"white\",\"startlinecolor\":\"#2a3f5f\"},\"baxis\":{\"endlinecolor\":\"#2a3f5f\",\"gridcolor\":\"white\",\"linecolor\":\"white\",\"minorgridcolor\":\"white\",\"startlinecolor\":\"#2a3f5f\"},\"type\":\"carpet\"}],\"table\":[{\"cells\":{\"fill\":{\"color\":\"#EBF0F8\"},\"line\":{\"color\":\"white\"}},\"header\":{\"fill\":{\"color\":\"#C8D4E3\"},\"line\":{\"color\":\"white\"}},\"type\":\"table\"}],\"barpolar\":[{\"marker\":{\"line\":{\"color\":\"#E5ECF6\",\"width\":0.5},\"pattern\":{\"fillmode\":\"overlay\",\"size\":10,\"solidity\":0.2}},\"type\":\"barpolar\"}],\"pie\":[{\"automargin\":true,\"type\":\"pie\"}]},\"layout\":{\"autotypenumbers\":\"strict\",\"colorway\":[\"#636efa\",\"#EF553B\",\"#00cc96\",\"#ab63fa\",\"#FFA15A\",\"#19d3f3\",\"#FF6692\",\"#B6E880\",\"#FF97FF\",\"#FECB52\"],\"font\":{\"color\":\"#2a3f5f\"},\"hovermode\":\"closest\",\"hoverlabel\":{\"align\":\"left\"},\"paper_bgcolor\":\"white\",\"plot_bgcolor\":\"#E5ECF6\",\"polar\":{\"bgcolor\":\"#E5ECF6\",\"angularaxis\":{\"gridcolor\":\"white\",\"linecolor\":\"white\",\"ticks\":\"\"},\"radialaxis\":{\"gridcolor\":\"white\",\"linecolor\":\"white\",\"ticks\":\"\"}},\"ternary\":{\"bgcolor\":\"#E5ECF6\",\"aaxis\":{\"gridcolor\":\"white\",\"linecolor\":\"white\",\"ticks\":\"\"},\"baxis\":{\"gridcolor\":\"white\",\"linecolor\":\"white\",\"ticks\":\"\"},\"caxis\":{\"gridcolor\":\"white\",\"linecolor\":\"white\",\"ticks\":\"\"}},\"coloraxis\":{\"colorbar\":{\"outlinewidth\":0,\"ticks\":\"\"}},\"colorscale\":{\"sequential\":[[0.0,\"#0d0887\"],[0.1111111111111111,\"#46039f\"],[0.2222222222222222,\"#7201a8\"],[0.3333333333333333,\"#9c179e\"],[0.4444444444444444,\"#bd3786\"],[0.5555555555555556,\"#d8576b\"],[0.6666666666666666,\"#ed7953\"],[0.7777777777777778,\"#fb9f3a\"],[0.8888888888888888,\"#fdca26\"],[1.0,\"#f0f921\"]],\"sequentialminus\":[[0.0,\"#0d0887\"],[0.1111111111111111,\"#46039f\"],[0.2222222222222222,\"#7201a8\"],[0.3333333333333333,\"#9c179e\"],[0.4444444444444444,\"#bd3786\"],[0.5555555555555556,\"#d8576b\"],[0.6666666666666666,\"#ed7953\"],[0.7777777777777778,\"#fb9f3a\"],[0.8888888888888888,\"#fdca26\"],[1.0,\"#f0f921\"]],\"diverging\":[[0,\"#8e0152\"],[0.1,\"#c51b7d\"],[0.2,\"#de77ae\"],[0.3,\"#f1b6da\"],[0.4,\"#fde0ef\"],[0.5,\"#f7f7f7\"],[0.6,\"#e6f5d0\"],[0.7,\"#b8e186\"],[0.8,\"#7fbc41\"],[0.9,\"#4d9221\"],[1,\"#276419\"]]},\"xaxis\":{\"gridcolor\":\"white\",\"linecolor\":\"white\",\"ticks\":\"\",\"title\":{\"standoff\":15},\"zerolinecolor\":\"white\",\"automargin\":true,\"zerolinewidth\":2},\"yaxis\":{\"gridcolor\":\"white\",\"linecolor\":\"white\",\"ticks\":\"\",\"title\":{\"standoff\":15},\"zerolinecolor\":\"white\",\"automargin\":true,\"zerolinewidth\":2},\"scene\":{\"xaxis\":{\"backgroundcolor\":\"#E5ECF6\",\"gridcolor\":\"white\",\"linecolor\":\"white\",\"showbackground\":true,\"ticks\":\"\",\"zerolinecolor\":\"white\",\"gridwidth\":2},\"yaxis\":{\"backgroundcolor\":\"#E5ECF6\",\"gridcolor\":\"white\",\"linecolor\":\"white\",\"showbackground\":true,\"ticks\":\"\",\"zerolinecolor\":\"white\",\"gridwidth\":2},\"zaxis\":{\"backgroundcolor\":\"#E5ECF6\",\"gridcolor\":\"white\",\"linecolor\":\"white\",\"showbackground\":true,\"ticks\":\"\",\"zerolinecolor\":\"white\",\"gridwidth\":2}},\"shapedefaults\":{\"line\":{\"color\":\"#2a3f5f\"}},\"annotationdefaults\":{\"arrowcolor\":\"#2a3f5f\",\"arrowhead\":0,\"arrowwidth\":1},\"geo\":{\"bgcolor\":\"white\",\"landcolor\":\"#E5ECF6\",\"subunitcolor\":\"white\",\"showland\":true,\"showlakes\":true,\"lakecolor\":\"white\"},\"title\":{\"x\":0.05},\"mapbox\":{\"style\":\"light\"}}},\"xaxis\":{\"anchor\":\"y\",\"domain\":[0.0,1.0],\"title\":{\"text\":\"Country\"}},\"yaxis\":{\"anchor\":\"x\",\"domain\":[0.0,1.0],\"title\":{\"text\":\"Generation_Z_voters%\"}},\"coloraxis\":{\"colorbar\":{\"title\":{\"text\":\"Generation_Z_voters%\"}},\"colorscale\":[[0.0,\"#0d0887\"],[0.1111111111111111,\"#46039f\"],[0.2222222222222222,\"#7201a8\"],[0.3333333333333333,\"#9c179e\"],[0.4444444444444444,\"#bd3786\"],[0.5555555555555556,\"#d8576b\"],[0.6666666666666666,\"#ed7953\"],[0.7777777777777778,\"#fb9f3a\"],[0.8888888888888888,\"#fdca26\"],[1.0,\"#f0f921\"]]},\"legend\":{\"tracegroupgap\":0},\"title\":{\"text\":\"Percentage for Generation Z voters in 2019 EU Election per each Country.\"},\"barmode\":\"relative\",\"height\":700,\"width\":1300},                        {\"responsive\": true}                    ).then(function(){\n",
       "                            \n",
       "var gd = document.getElementById('b66272ac-838f-4b94-b2a4-b111587dc0de');\n",
       "var x = new MutationObserver(function (mutations, observer) {{\n",
       "        var display = window.getComputedStyle(gd).display;\n",
       "        if (!display || display === 'none') {{\n",
       "            console.log([gd, 'removed!']);\n",
       "            Plotly.purge(gd);\n",
       "            observer.disconnect();\n",
       "        }}\n",
       "}});\n",
       "\n",
       "// Listen for the removal of the full notebook cells\n",
       "var notebookContainer = gd.closest('#notebook-container');\n",
       "if (notebookContainer) {{\n",
       "    x.observe(notebookContainer, {childList: true});\n",
       "}}\n",
       "\n",
       "// Listen for the clearing of the current output cell\n",
       "var outputEl = gd.closest('.output');\n",
       "if (outputEl) {{\n",
       "    x.observe(outputEl, {childList: true});\n",
       "}}\n",
       "\n",
       "                        })                };                });            </script>        </div>"
      ]
     },
     "metadata": {},
     "output_type": "display_data"
    }
   ],
   "source": [
    "fig=px.bar(Generation_Z_voters_percenrtage,x='Country',y='Generation_Z_voters%',color='Generation_Z_voters%',text_auto='.3s',\n",
    "           title='Percentage for Generation Z voters in 2019 EU Election per each Country.',height=700, width=1300)\n",
    "fig.show()\n"
   ]
  },
  {
   "cell_type": "code",
   "execution_count": 782,
   "metadata": {
    "scrolled": true
   },
   "outputs": [
    {
     "data": {
      "text/html": [
       "<div>\n",
       "<style scoped>\n",
       "    .dataframe tbody tr th:only-of-type {\n",
       "        vertical-align: middle;\n",
       "    }\n",
       "\n",
       "    .dataframe tbody tr th {\n",
       "        vertical-align: top;\n",
       "    }\n",
       "\n",
       "    .dataframe thead th {\n",
       "        text-align: right;\n",
       "    }\n",
       "</style>\n",
       "<table border=\"1\" class=\"dataframe\">\n",
       "  <thead>\n",
       "    <tr style=\"text-align: right;\">\n",
       "      <th></th>\n",
       "      <th>Country</th>\n",
       "      <th>total_voters</th>\n",
       "      <th>Generation_Z_voters</th>\n",
       "      <th>Generation_Z_voters%</th>\n",
       "      <th>older_generations_voters</th>\n",
       "      <th>older_generations_voters%</th>\n",
       "    </tr>\n",
       "  </thead>\n",
       "  <tbody>\n",
       "    <tr>\n",
       "      <th>20</th>\n",
       "      <td>Germany</td>\n",
       "      <td>70102621.0</td>\n",
       "      <td>6233563.0</td>\n",
       "      <td>8.89</td>\n",
       "      <td>63869058.0</td>\n",
       "      <td>91.11</td>\n",
       "    </tr>\n",
       "    <tr>\n",
       "      <th>7</th>\n",
       "      <td>United Kingdom</td>\n",
       "      <td>52837136.0</td>\n",
       "      <td>5855185.0</td>\n",
       "      <td>11.08</td>\n",
       "      <td>46981951.0</td>\n",
       "      <td>88.92</td>\n",
       "    </tr>\n",
       "    <tr>\n",
       "      <th>15</th>\n",
       "      <td>France</td>\n",
       "      <td>52732008.0</td>\n",
       "      <td>5730894.0</td>\n",
       "      <td>10.87</td>\n",
       "      <td>47001114.0</td>\n",
       "      <td>89.13</td>\n",
       "    </tr>\n",
       "    <tr>\n",
       "      <th>8</th>\n",
       "      <td>Italy</td>\n",
       "      <td>50974954.0</td>\n",
       "      <td>4132683.0</td>\n",
       "      <td>8.11</td>\n",
       "      <td>46842271.0</td>\n",
       "      <td>91.89</td>\n",
       "    </tr>\n",
       "    <tr>\n",
       "      <th>18</th>\n",
       "      <td>Spain</td>\n",
       "      <td>38190245.0</td>\n",
       "      <td>3162188.0</td>\n",
       "      <td>8.28</td>\n",
       "      <td>35028057.0</td>\n",
       "      <td>91.72</td>\n",
       "    </tr>\n",
       "    <tr>\n",
       "      <th>10</th>\n",
       "      <td>Poland</td>\n",
       "      <td>31131793.0</td>\n",
       "      <td>2836109.0</td>\n",
       "      <td>9.11</td>\n",
       "      <td>28295684.0</td>\n",
       "      <td>90.89</td>\n",
       "    </tr>\n",
       "    <tr>\n",
       "      <th>26</th>\n",
       "      <td>Netherlands</td>\n",
       "      <td>13929735.0</td>\n",
       "      <td>1507942.0</td>\n",
       "      <td>10.83</td>\n",
       "      <td>12421793.0</td>\n",
       "      <td>89.17</td>\n",
       "    </tr>\n",
       "    <tr>\n",
       "      <th>1</th>\n",
       "      <td>Romania</td>\n",
       "      <td>15802864.0</td>\n",
       "      <td>1473822.0</td>\n",
       "      <td>9.33</td>\n",
       "      <td>14329042.0</td>\n",
       "      <td>90.67</td>\n",
       "    </tr>\n",
       "    <tr>\n",
       "      <th>14</th>\n",
       "      <td>Belgium</td>\n",
       "      <td>9173132.0</td>\n",
       "      <td>928473.0</td>\n",
       "      <td>10.12</td>\n",
       "      <td>8244659.0</td>\n",
       "      <td>89.88</td>\n",
       "    </tr>\n",
       "    <tr>\n",
       "      <th>25</th>\n",
       "      <td>Austria</td>\n",
       "      <td>7566196.0</td>\n",
       "      <td>889047.0</td>\n",
       "      <td>11.75</td>\n",
       "      <td>6677149.0</td>\n",
       "      <td>88.25</td>\n",
       "    </tr>\n",
       "    <tr>\n",
       "      <th>0</th>\n",
       "      <td>Greece</td>\n",
       "      <td>8909593.0</td>\n",
       "      <td>862554.0</td>\n",
       "      <td>9.68</td>\n",
       "      <td>8047039.0</td>\n",
       "      <td>90.32</td>\n",
       "    </tr>\n",
       "    <tr>\n",
       "      <th>19</th>\n",
       "      <td>Sweden</td>\n",
       "      <td>8043825.0</td>\n",
       "      <td>805642.0</td>\n",
       "      <td>10.02</td>\n",
       "      <td>7238183.0</td>\n",
       "      <td>89.98</td>\n",
       "    </tr>\n",
       "    <tr>\n",
       "      <th>21</th>\n",
       "      <td>Portugal</td>\n",
       "      <td>8553231.0</td>\n",
       "      <td>776373.0</td>\n",
       "      <td>9.08</td>\n",
       "      <td>7776858.0</td>\n",
       "      <td>90.92</td>\n",
       "    </tr>\n",
       "    <tr>\n",
       "      <th>17</th>\n",
       "      <td>Hungary</td>\n",
       "      <td>8079687.0</td>\n",
       "      <td>759300.0</td>\n",
       "      <td>9.40</td>\n",
       "      <td>7320387.0</td>\n",
       "      <td>90.60</td>\n",
       "    </tr>\n",
       "    <tr>\n",
       "      <th>3</th>\n",
       "      <td>Czechia</td>\n",
       "      <td>8658033.0</td>\n",
       "      <td>672938.0</td>\n",
       "      <td>7.77</td>\n",
       "      <td>7985095.0</td>\n",
       "      <td>92.23</td>\n",
       "    </tr>\n",
       "    <tr>\n",
       "      <th>11</th>\n",
       "      <td>Denmark</td>\n",
       "      <td>4678256.0</td>\n",
       "      <td>522577.0</td>\n",
       "      <td>11.17</td>\n",
       "      <td>4155679.0</td>\n",
       "      <td>88.83</td>\n",
       "    </tr>\n",
       "    <tr>\n",
       "      <th>22</th>\n",
       "      <td>Bulgaria</td>\n",
       "      <td>5817244.0</td>\n",
       "      <td>441896.0</td>\n",
       "      <td>7.60</td>\n",
       "      <td>5375348.0</td>\n",
       "      <td>92.40</td>\n",
       "    </tr>\n",
       "    <tr>\n",
       "      <th>13</th>\n",
       "      <td>Finland</td>\n",
       "      <td>4467177.0</td>\n",
       "      <td>439907.0</td>\n",
       "      <td>9.85</td>\n",
       "      <td>4027270.0</td>\n",
       "      <td>90.15</td>\n",
       "    </tr>\n",
       "    <tr>\n",
       "      <th>4</th>\n",
       "      <td>Slovakia</td>\n",
       "      <td>4453611.0</td>\n",
       "      <td>417670.0</td>\n",
       "      <td>9.38</td>\n",
       "      <td>4035941.0</td>\n",
       "      <td>90.62</td>\n",
       "    </tr>\n",
       "    <tr>\n",
       "      <th>28</th>\n",
       "      <td>Ireland</td>\n",
       "      <td>3554162.0</td>\n",
       "      <td>350684.0</td>\n",
       "      <td>9.87</td>\n",
       "      <td>3203478.0</td>\n",
       "      <td>90.13</td>\n",
       "    </tr>\n",
       "    <tr>\n",
       "      <th>23</th>\n",
       "      <td>Croatia</td>\n",
       "      <td>3390190.0</td>\n",
       "      <td>331720.0</td>\n",
       "      <td>9.78</td>\n",
       "      <td>3058470.0</td>\n",
       "      <td>90.22</td>\n",
       "    </tr>\n",
       "    <tr>\n",
       "      <th>9</th>\n",
       "      <td>Lithuania</td>\n",
       "      <td>2284315.0</td>\n",
       "      <td>214533.0</td>\n",
       "      <td>9.39</td>\n",
       "      <td>2069782.0</td>\n",
       "      <td>90.61</td>\n",
       "    </tr>\n",
       "    <tr>\n",
       "      <th>24</th>\n",
       "      <td>Slovenia</td>\n",
       "      <td>1703139.0</td>\n",
       "      <td>137559.0</td>\n",
       "      <td>8.08</td>\n",
       "      <td>1565580.0</td>\n",
       "      <td>91.92</td>\n",
       "    </tr>\n",
       "    <tr>\n",
       "      <th>5</th>\n",
       "      <td>Latvia</td>\n",
       "      <td>1564165.0</td>\n",
       "      <td>118787.0</td>\n",
       "      <td>7.59</td>\n",
       "      <td>1445378.0</td>\n",
       "      <td>92.41</td>\n",
       "    </tr>\n",
       "    <tr>\n",
       "      <th>27</th>\n",
       "      <td>Estonia</td>\n",
       "      <td>1064265.0</td>\n",
       "      <td>86142.0</td>\n",
       "      <td>8.09</td>\n",
       "      <td>978123.0</td>\n",
       "      <td>91.91</td>\n",
       "    </tr>\n",
       "    <tr>\n",
       "      <th>2</th>\n",
       "      <td>Cyprus</td>\n",
       "      <td>702707.0</td>\n",
       "      <td>75318.0</td>\n",
       "      <td>10.72</td>\n",
       "      <td>627389.0</td>\n",
       "      <td>89.28</td>\n",
       "    </tr>\n",
       "    <tr>\n",
       "      <th>6</th>\n",
       "      <td>Luxembourg</td>\n",
       "      <td>496440.0</td>\n",
       "      <td>51858.0</td>\n",
       "      <td>10.45</td>\n",
       "      <td>444582.0</td>\n",
       "      <td>89.55</td>\n",
       "    </tr>\n",
       "    <tr>\n",
       "      <th>16</th>\n",
       "      <td>Malta</td>\n",
       "      <td>379393.0</td>\n",
       "      <td>45225.0</td>\n",
       "      <td>11.92</td>\n",
       "      <td>334168.0</td>\n",
       "      <td>88.08</td>\n",
       "    </tr>\n",
       "  </tbody>\n",
       "</table>\n",
       "</div>"
      ],
      "text/plain": [
       "           Country  total_voters  Generation_Z_voters  Generation_Z_voters%  \\\n",
       "20         Germany    70102621.0            6233563.0                  8.89   \n",
       "7   United Kingdom    52837136.0            5855185.0                 11.08   \n",
       "15          France    52732008.0            5730894.0                 10.87   \n",
       "8            Italy    50974954.0            4132683.0                  8.11   \n",
       "18           Spain    38190245.0            3162188.0                  8.28   \n",
       "10          Poland    31131793.0            2836109.0                  9.11   \n",
       "26     Netherlands    13929735.0            1507942.0                 10.83   \n",
       "1          Romania    15802864.0            1473822.0                  9.33   \n",
       "14         Belgium     9173132.0             928473.0                 10.12   \n",
       "25         Austria     7566196.0             889047.0                 11.75   \n",
       "0           Greece     8909593.0             862554.0                  9.68   \n",
       "19          Sweden     8043825.0             805642.0                 10.02   \n",
       "21        Portugal     8553231.0             776373.0                  9.08   \n",
       "17         Hungary     8079687.0             759300.0                  9.40   \n",
       "3          Czechia     8658033.0             672938.0                  7.77   \n",
       "11         Denmark     4678256.0             522577.0                 11.17   \n",
       "22        Bulgaria     5817244.0             441896.0                  7.60   \n",
       "13         Finland     4467177.0             439907.0                  9.85   \n",
       "4         Slovakia     4453611.0             417670.0                  9.38   \n",
       "28         Ireland     3554162.0             350684.0                  9.87   \n",
       "23         Croatia     3390190.0             331720.0                  9.78   \n",
       "9        Lithuania     2284315.0             214533.0                  9.39   \n",
       "24        Slovenia     1703139.0             137559.0                  8.08   \n",
       "5           Latvia     1564165.0             118787.0                  7.59   \n",
       "27         Estonia     1064265.0              86142.0                  8.09   \n",
       "2           Cyprus      702707.0              75318.0                 10.72   \n",
       "6       Luxembourg      496440.0              51858.0                 10.45   \n",
       "16           Malta      379393.0              45225.0                 11.92   \n",
       "\n",
       "    older_generations_voters  older_generations_voters%  \n",
       "20                63869058.0                      91.11  \n",
       "7                 46981951.0                      88.92  \n",
       "15                47001114.0                      89.13  \n",
       "8                 46842271.0                      91.89  \n",
       "18                35028057.0                      91.72  \n",
       "10                28295684.0                      90.89  \n",
       "26                12421793.0                      89.17  \n",
       "1                 14329042.0                      90.67  \n",
       "14                 8244659.0                      89.88  \n",
       "25                 6677149.0                      88.25  \n",
       "0                  8047039.0                      90.32  \n",
       "19                 7238183.0                      89.98  \n",
       "21                 7776858.0                      90.92  \n",
       "17                 7320387.0                      90.60  \n",
       "3                  7985095.0                      92.23  \n",
       "11                 4155679.0                      88.83  \n",
       "22                 5375348.0                      92.40  \n",
       "13                 4027270.0                      90.15  \n",
       "4                  4035941.0                      90.62  \n",
       "28                 3203478.0                      90.13  \n",
       "23                 3058470.0                      90.22  \n",
       "9                  2069782.0                      90.61  \n",
       "24                 1565580.0                      91.92  \n",
       "5                  1445378.0                      92.41  \n",
       "27                  978123.0                      91.91  \n",
       "2                   627389.0                      89.28  \n",
       "6                   444582.0                      89.55  \n",
       "16                  334168.0                      88.08  "
      ]
     },
     "execution_count": 782,
     "metadata": {},
     "output_type": "execute_result"
    }
   ],
   "source": [
    "Generation_Z_voters=all_countries.sort_values(by='Generation_Z_voters', ascending = False)\n",
    "Generation_Z_voters"
   ]
  },
  {
   "cell_type": "code",
   "execution_count": 783,
   "metadata": {},
   "outputs": [
    {
     "data": {
      "application/vnd.plotly.v1+json": {
       "config": {
        "plotlyServerURL": "https://plot.ly"
       },
       "data": [
        {
         "alignmentgroup": "True",
         "hovertemplate": "Country=%{x}<br>Generation_Z_voters=%{marker.color}<extra></extra>",
         "legendgroup": "",
         "marker": {
          "color": [
           6233563,
           5855185,
           5730894,
           4132683,
           3162188,
           2836109,
           1507942,
           1473822,
           928473,
           889047,
           862554,
           805642,
           776373,
           759300,
           672938,
           522577,
           441896,
           439907,
           417670,
           350684,
           331720,
           214533,
           137559,
           118787,
           86142,
           75318,
           51858,
           45225
          ],
          "coloraxis": "coloraxis",
          "pattern": {
           "shape": ""
          }
         },
         "name": "",
         "offsetgroup": "",
         "orientation": "v",
         "showlegend": false,
         "textposition": "auto",
         "texttemplate": "%{y:.3s}",
         "type": "bar",
         "x": [
          "Germany",
          "United Kingdom",
          "France",
          "Italy",
          "Spain",
          "Poland",
          "Netherlands",
          "Romania",
          "Belgium",
          "Austria",
          "Greece",
          "Sweden",
          "Portugal",
          "Hungary",
          "Czechia",
          "Denmark",
          "Bulgaria",
          "Finland",
          "Slovakia",
          "Ireland",
          "Croatia",
          "Lithuania",
          "Slovenia",
          "Latvia",
          "Estonia",
          "Cyprus",
          "Luxembourg",
          "Malta"
         ],
         "xaxis": "x",
         "y": [
          6233563,
          5855185,
          5730894,
          4132683,
          3162188,
          2836109,
          1507942,
          1473822,
          928473,
          889047,
          862554,
          805642,
          776373,
          759300,
          672938,
          522577,
          441896,
          439907,
          417670,
          350684,
          331720,
          214533,
          137559,
          118787,
          86142,
          75318,
          51858,
          45225
         ],
         "yaxis": "y"
        }
       ],
       "layout": {
        "barmode": "relative",
        "coloraxis": {
         "colorbar": {
          "title": {
           "text": "Generation_Z_voters"
          }
         },
         "colorscale": [
          [
           0,
           "#0d0887"
          ],
          [
           0.1111111111111111,
           "#46039f"
          ],
          [
           0.2222222222222222,
           "#7201a8"
          ],
          [
           0.3333333333333333,
           "#9c179e"
          ],
          [
           0.4444444444444444,
           "#bd3786"
          ],
          [
           0.5555555555555556,
           "#d8576b"
          ],
          [
           0.6666666666666666,
           "#ed7953"
          ],
          [
           0.7777777777777778,
           "#fb9f3a"
          ],
          [
           0.8888888888888888,
           "#fdca26"
          ],
          [
           1,
           "#f0f921"
          ]
         ]
        },
        "height": 900,
        "legend": {
         "tracegroupgap": 0
        },
        "template": {
         "data": {
          "bar": [
           {
            "error_x": {
             "color": "#2a3f5f"
            },
            "error_y": {
             "color": "#2a3f5f"
            },
            "marker": {
             "line": {
              "color": "#E5ECF6",
              "width": 0.5
             },
             "pattern": {
              "fillmode": "overlay",
              "size": 10,
              "solidity": 0.2
             }
            },
            "type": "bar"
           }
          ],
          "barpolar": [
           {
            "marker": {
             "line": {
              "color": "#E5ECF6",
              "width": 0.5
             },
             "pattern": {
              "fillmode": "overlay",
              "size": 10,
              "solidity": 0.2
             }
            },
            "type": "barpolar"
           }
          ],
          "carpet": [
           {
            "aaxis": {
             "endlinecolor": "#2a3f5f",
             "gridcolor": "white",
             "linecolor": "white",
             "minorgridcolor": "white",
             "startlinecolor": "#2a3f5f"
            },
            "baxis": {
             "endlinecolor": "#2a3f5f",
             "gridcolor": "white",
             "linecolor": "white",
             "minorgridcolor": "white",
             "startlinecolor": "#2a3f5f"
            },
            "type": "carpet"
           }
          ],
          "choropleth": [
           {
            "colorbar": {
             "outlinewidth": 0,
             "ticks": ""
            },
            "type": "choropleth"
           }
          ],
          "contour": [
           {
            "colorbar": {
             "outlinewidth": 0,
             "ticks": ""
            },
            "colorscale": [
             [
              0,
              "#0d0887"
             ],
             [
              0.1111111111111111,
              "#46039f"
             ],
             [
              0.2222222222222222,
              "#7201a8"
             ],
             [
              0.3333333333333333,
              "#9c179e"
             ],
             [
              0.4444444444444444,
              "#bd3786"
             ],
             [
              0.5555555555555556,
              "#d8576b"
             ],
             [
              0.6666666666666666,
              "#ed7953"
             ],
             [
              0.7777777777777778,
              "#fb9f3a"
             ],
             [
              0.8888888888888888,
              "#fdca26"
             ],
             [
              1,
              "#f0f921"
             ]
            ],
            "type": "contour"
           }
          ],
          "contourcarpet": [
           {
            "colorbar": {
             "outlinewidth": 0,
             "ticks": ""
            },
            "type": "contourcarpet"
           }
          ],
          "heatmap": [
           {
            "colorbar": {
             "outlinewidth": 0,
             "ticks": ""
            },
            "colorscale": [
             [
              0,
              "#0d0887"
             ],
             [
              0.1111111111111111,
              "#46039f"
             ],
             [
              0.2222222222222222,
              "#7201a8"
             ],
             [
              0.3333333333333333,
              "#9c179e"
             ],
             [
              0.4444444444444444,
              "#bd3786"
             ],
             [
              0.5555555555555556,
              "#d8576b"
             ],
             [
              0.6666666666666666,
              "#ed7953"
             ],
             [
              0.7777777777777778,
              "#fb9f3a"
             ],
             [
              0.8888888888888888,
              "#fdca26"
             ],
             [
              1,
              "#f0f921"
             ]
            ],
            "type": "heatmap"
           }
          ],
          "heatmapgl": [
           {
            "colorbar": {
             "outlinewidth": 0,
             "ticks": ""
            },
            "colorscale": [
             [
              0,
              "#0d0887"
             ],
             [
              0.1111111111111111,
              "#46039f"
             ],
             [
              0.2222222222222222,
              "#7201a8"
             ],
             [
              0.3333333333333333,
              "#9c179e"
             ],
             [
              0.4444444444444444,
              "#bd3786"
             ],
             [
              0.5555555555555556,
              "#d8576b"
             ],
             [
              0.6666666666666666,
              "#ed7953"
             ],
             [
              0.7777777777777778,
              "#fb9f3a"
             ],
             [
              0.8888888888888888,
              "#fdca26"
             ],
             [
              1,
              "#f0f921"
             ]
            ],
            "type": "heatmapgl"
           }
          ],
          "histogram": [
           {
            "marker": {
             "pattern": {
              "fillmode": "overlay",
              "size": 10,
              "solidity": 0.2
             }
            },
            "type": "histogram"
           }
          ],
          "histogram2d": [
           {
            "colorbar": {
             "outlinewidth": 0,
             "ticks": ""
            },
            "colorscale": [
             [
              0,
              "#0d0887"
             ],
             [
              0.1111111111111111,
              "#46039f"
             ],
             [
              0.2222222222222222,
              "#7201a8"
             ],
             [
              0.3333333333333333,
              "#9c179e"
             ],
             [
              0.4444444444444444,
              "#bd3786"
             ],
             [
              0.5555555555555556,
              "#d8576b"
             ],
             [
              0.6666666666666666,
              "#ed7953"
             ],
             [
              0.7777777777777778,
              "#fb9f3a"
             ],
             [
              0.8888888888888888,
              "#fdca26"
             ],
             [
              1,
              "#f0f921"
             ]
            ],
            "type": "histogram2d"
           }
          ],
          "histogram2dcontour": [
           {
            "colorbar": {
             "outlinewidth": 0,
             "ticks": ""
            },
            "colorscale": [
             [
              0,
              "#0d0887"
             ],
             [
              0.1111111111111111,
              "#46039f"
             ],
             [
              0.2222222222222222,
              "#7201a8"
             ],
             [
              0.3333333333333333,
              "#9c179e"
             ],
             [
              0.4444444444444444,
              "#bd3786"
             ],
             [
              0.5555555555555556,
              "#d8576b"
             ],
             [
              0.6666666666666666,
              "#ed7953"
             ],
             [
              0.7777777777777778,
              "#fb9f3a"
             ],
             [
              0.8888888888888888,
              "#fdca26"
             ],
             [
              1,
              "#f0f921"
             ]
            ],
            "type": "histogram2dcontour"
           }
          ],
          "mesh3d": [
           {
            "colorbar": {
             "outlinewidth": 0,
             "ticks": ""
            },
            "type": "mesh3d"
           }
          ],
          "parcoords": [
           {
            "line": {
             "colorbar": {
              "outlinewidth": 0,
              "ticks": ""
             }
            },
            "type": "parcoords"
           }
          ],
          "pie": [
           {
            "automargin": true,
            "type": "pie"
           }
          ],
          "scatter": [
           {
            "fillpattern": {
             "fillmode": "overlay",
             "size": 10,
             "solidity": 0.2
            },
            "type": "scatter"
           }
          ],
          "scatter3d": [
           {
            "line": {
             "colorbar": {
              "outlinewidth": 0,
              "ticks": ""
             }
            },
            "marker": {
             "colorbar": {
              "outlinewidth": 0,
              "ticks": ""
             }
            },
            "type": "scatter3d"
           }
          ],
          "scattercarpet": [
           {
            "marker": {
             "colorbar": {
              "outlinewidth": 0,
              "ticks": ""
             }
            },
            "type": "scattercarpet"
           }
          ],
          "scattergeo": [
           {
            "marker": {
             "colorbar": {
              "outlinewidth": 0,
              "ticks": ""
             }
            },
            "type": "scattergeo"
           }
          ],
          "scattergl": [
           {
            "marker": {
             "colorbar": {
              "outlinewidth": 0,
              "ticks": ""
             }
            },
            "type": "scattergl"
           }
          ],
          "scattermapbox": [
           {
            "marker": {
             "colorbar": {
              "outlinewidth": 0,
              "ticks": ""
             }
            },
            "type": "scattermapbox"
           }
          ],
          "scatterpolar": [
           {
            "marker": {
             "colorbar": {
              "outlinewidth": 0,
              "ticks": ""
             }
            },
            "type": "scatterpolar"
           }
          ],
          "scatterpolargl": [
           {
            "marker": {
             "colorbar": {
              "outlinewidth": 0,
              "ticks": ""
             }
            },
            "type": "scatterpolargl"
           }
          ],
          "scatterternary": [
           {
            "marker": {
             "colorbar": {
              "outlinewidth": 0,
              "ticks": ""
             }
            },
            "type": "scatterternary"
           }
          ],
          "surface": [
           {
            "colorbar": {
             "outlinewidth": 0,
             "ticks": ""
            },
            "colorscale": [
             [
              0,
              "#0d0887"
             ],
             [
              0.1111111111111111,
              "#46039f"
             ],
             [
              0.2222222222222222,
              "#7201a8"
             ],
             [
              0.3333333333333333,
              "#9c179e"
             ],
             [
              0.4444444444444444,
              "#bd3786"
             ],
             [
              0.5555555555555556,
              "#d8576b"
             ],
             [
              0.6666666666666666,
              "#ed7953"
             ],
             [
              0.7777777777777778,
              "#fb9f3a"
             ],
             [
              0.8888888888888888,
              "#fdca26"
             ],
             [
              1,
              "#f0f921"
             ]
            ],
            "type": "surface"
           }
          ],
          "table": [
           {
            "cells": {
             "fill": {
              "color": "#EBF0F8"
             },
             "line": {
              "color": "white"
             }
            },
            "header": {
             "fill": {
              "color": "#C8D4E3"
             },
             "line": {
              "color": "white"
             }
            },
            "type": "table"
           }
          ]
         },
         "layout": {
          "annotationdefaults": {
           "arrowcolor": "#2a3f5f",
           "arrowhead": 0,
           "arrowwidth": 1
          },
          "autotypenumbers": "strict",
          "coloraxis": {
           "colorbar": {
            "outlinewidth": 0,
            "ticks": ""
           }
          },
          "colorscale": {
           "diverging": [
            [
             0,
             "#8e0152"
            ],
            [
             0.1,
             "#c51b7d"
            ],
            [
             0.2,
             "#de77ae"
            ],
            [
             0.3,
             "#f1b6da"
            ],
            [
             0.4,
             "#fde0ef"
            ],
            [
             0.5,
             "#f7f7f7"
            ],
            [
             0.6,
             "#e6f5d0"
            ],
            [
             0.7,
             "#b8e186"
            ],
            [
             0.8,
             "#7fbc41"
            ],
            [
             0.9,
             "#4d9221"
            ],
            [
             1,
             "#276419"
            ]
           ],
           "sequential": [
            [
             0,
             "#0d0887"
            ],
            [
             0.1111111111111111,
             "#46039f"
            ],
            [
             0.2222222222222222,
             "#7201a8"
            ],
            [
             0.3333333333333333,
             "#9c179e"
            ],
            [
             0.4444444444444444,
             "#bd3786"
            ],
            [
             0.5555555555555556,
             "#d8576b"
            ],
            [
             0.6666666666666666,
             "#ed7953"
            ],
            [
             0.7777777777777778,
             "#fb9f3a"
            ],
            [
             0.8888888888888888,
             "#fdca26"
            ],
            [
             1,
             "#f0f921"
            ]
           ],
           "sequentialminus": [
            [
             0,
             "#0d0887"
            ],
            [
             0.1111111111111111,
             "#46039f"
            ],
            [
             0.2222222222222222,
             "#7201a8"
            ],
            [
             0.3333333333333333,
             "#9c179e"
            ],
            [
             0.4444444444444444,
             "#bd3786"
            ],
            [
             0.5555555555555556,
             "#d8576b"
            ],
            [
             0.6666666666666666,
             "#ed7953"
            ],
            [
             0.7777777777777778,
             "#fb9f3a"
            ],
            [
             0.8888888888888888,
             "#fdca26"
            ],
            [
             1,
             "#f0f921"
            ]
           ]
          },
          "colorway": [
           "#636efa",
           "#EF553B",
           "#00cc96",
           "#ab63fa",
           "#FFA15A",
           "#19d3f3",
           "#FF6692",
           "#B6E880",
           "#FF97FF",
           "#FECB52"
          ],
          "font": {
           "color": "#2a3f5f"
          },
          "geo": {
           "bgcolor": "white",
           "lakecolor": "white",
           "landcolor": "#E5ECF6",
           "showlakes": true,
           "showland": true,
           "subunitcolor": "white"
          },
          "hoverlabel": {
           "align": "left"
          },
          "hovermode": "closest",
          "mapbox": {
           "style": "light"
          },
          "paper_bgcolor": "white",
          "plot_bgcolor": "#E5ECF6",
          "polar": {
           "angularaxis": {
            "gridcolor": "white",
            "linecolor": "white",
            "ticks": ""
           },
           "bgcolor": "#E5ECF6",
           "radialaxis": {
            "gridcolor": "white",
            "linecolor": "white",
            "ticks": ""
           }
          },
          "scene": {
           "xaxis": {
            "backgroundcolor": "#E5ECF6",
            "gridcolor": "white",
            "gridwidth": 2,
            "linecolor": "white",
            "showbackground": true,
            "ticks": "",
            "zerolinecolor": "white"
           },
           "yaxis": {
            "backgroundcolor": "#E5ECF6",
            "gridcolor": "white",
            "gridwidth": 2,
            "linecolor": "white",
            "showbackground": true,
            "ticks": "",
            "zerolinecolor": "white"
           },
           "zaxis": {
            "backgroundcolor": "#E5ECF6",
            "gridcolor": "white",
            "gridwidth": 2,
            "linecolor": "white",
            "showbackground": true,
            "ticks": "",
            "zerolinecolor": "white"
           }
          },
          "shapedefaults": {
           "line": {
            "color": "#2a3f5f"
           }
          },
          "ternary": {
           "aaxis": {
            "gridcolor": "white",
            "linecolor": "white",
            "ticks": ""
           },
           "baxis": {
            "gridcolor": "white",
            "linecolor": "white",
            "ticks": ""
           },
           "bgcolor": "#E5ECF6",
           "caxis": {
            "gridcolor": "white",
            "linecolor": "white",
            "ticks": ""
           }
          },
          "title": {
           "x": 0.05
          },
          "xaxis": {
           "automargin": true,
           "gridcolor": "white",
           "linecolor": "white",
           "ticks": "",
           "title": {
            "standoff": 15
           },
           "zerolinecolor": "white",
           "zerolinewidth": 2
          },
          "yaxis": {
           "automargin": true,
           "gridcolor": "white",
           "linecolor": "white",
           "ticks": "",
           "title": {
            "standoff": 15
           },
           "zerolinecolor": "white",
           "zerolinewidth": 2
          }
         }
        },
        "title": {
         "text": "Total Number for Generation Z voters in 2019 EU Election per each Country."
        },
        "width": 1300,
        "xaxis": {
         "anchor": "y",
         "autorange": true,
         "domain": [
          0,
          1
         ],
         "range": [
          -0.5,
          27.5
         ],
         "title": {
          "text": "Country"
         },
         "type": "category"
        },
        "yaxis": {
         "anchor": "x",
         "autorange": true,
         "domain": [
          0,
          1
         ],
         "range": [
          0,
          6561645.263157895
         ],
         "title": {
          "text": "Generation_Z_voters"
         },
         "type": "linear"
        }
       }
      },
      "image/png": "[encoded data removed]",
      "text/html": [
       "<div>                            <div id=\"76d07414-1b1c-4e89-89dc-0e1090dd23a0\" class=\"plotly-graph-div\" style=\"height:900px; width:1300px;\"></div>            <script type=\"text/javascript\">                require([\"plotly\"], function(Plotly) {                    window.PLOTLYENV=window.PLOTLYENV || {};                                    if (document.getElementById(\"76d07414-1b1c-4e89-89dc-0e1090dd23a0\")) {                    Plotly.newPlot(                        \"76d07414-1b1c-4e89-89dc-0e1090dd23a0\",                        [{\"alignmentgroup\":\"True\",\"hovertemplate\":\"Country=%{x}<br>Generation_Z_voters=%{marker.color}<extra></extra>\",\"legendgroup\":\"\",\"marker\":{\"color\":[6233563.0,5855185.0,5730894.0,4132683.0,3162188.0,2836109.0,1507942.0,1473822.0,928473.0,889047.0,862554.0,805642.0,776373.0,759300.0,672938.0,522577.0,441896.0,439907.0,417670.0,350684.0,331720.0,214533.0,137559.0,118787.0,86142.0,75318.0,51858.0,45225.0],\"coloraxis\":\"coloraxis\",\"pattern\":{\"shape\":\"\"}},\"name\":\"\",\"offsetgroup\":\"\",\"orientation\":\"v\",\"showlegend\":false,\"textposition\":\"auto\",\"texttemplate\":\"%{y:.3s}\",\"x\":[\"Germany\",\"United Kingdom\",\"France\",\"Italy\",\"Spain\",\"Poland\",\"Netherlands\",\"Romania\",\"Belgium\",\"Austria\",\"Greece\",\"Sweden\",\"Portugal\",\"Hungary\",\"Czechia\",\"Denmark\",\"Bulgaria\",\"Finland\",\"Slovakia\",\"Ireland\",\"Croatia\",\"Lithuania\",\"Slovenia\",\"Latvia\",\"Estonia\",\"Cyprus\",\"Luxembourg\",\"Malta\"],\"xaxis\":\"x\",\"y\":[6233563.0,5855185.0,5730894.0,4132683.0,3162188.0,2836109.0,1507942.0,1473822.0,928473.0,889047.0,862554.0,805642.0,776373.0,759300.0,672938.0,522577.0,441896.0,439907.0,417670.0,350684.0,331720.0,214533.0,137559.0,118787.0,86142.0,75318.0,51858.0,45225.0],\"yaxis\":\"y\",\"type\":\"bar\"}],                        {\"template\":{\"data\":{\"histogram2dcontour\":[{\"type\":\"histogram2dcontour\",\"colorbar\":{\"outlinewidth\":0,\"ticks\":\"\"},\"colorscale\":[[0.0,\"#0d0887\"],[0.1111111111111111,\"#46039f\"],[0.2222222222222222,\"#7201a8\"],[0.3333333333333333,\"#9c179e\"],[0.4444444444444444,\"#bd3786\"],[0.5555555555555556,\"#d8576b\"],[0.6666666666666666,\"#ed7953\"],[0.7777777777777778,\"#fb9f3a\"],[0.8888888888888888,\"#fdca26\"],[1.0,\"#f0f921\"]]}],\"choropleth\":[{\"type\":\"choropleth\",\"colorbar\":{\"outlinewidth\":0,\"ticks\":\"\"}}],\"histogram2d\":[{\"type\":\"histogram2d\",\"colorbar\":{\"outlinewidth\":0,\"ticks\":\"\"},\"colorscale\":[[0.0,\"#0d0887\"],[0.1111111111111111,\"#46039f\"],[0.2222222222222222,\"#7201a8\"],[0.3333333333333333,\"#9c179e\"],[0.4444444444444444,\"#bd3786\"],[0.5555555555555556,\"#d8576b\"],[0.6666666666666666,\"#ed7953\"],[0.7777777777777778,\"#fb9f3a\"],[0.8888888888888888,\"#fdca26\"],[1.0,\"#f0f921\"]]}],\"heatmap\":[{\"type\":\"heatmap\",\"colorbar\":{\"outlinewidth\":0,\"ticks\":\"\"},\"colorscale\":[[0.0,\"#0d0887\"],[0.1111111111111111,\"#46039f\"],[0.2222222222222222,\"#7201a8\"],[0.3333333333333333,\"#9c179e\"],[0.4444444444444444,\"#bd3786\"],[0.5555555555555556,\"#d8576b\"],[0.6666666666666666,\"#ed7953\"],[0.7777777777777778,\"#fb9f3a\"],[0.8888888888888888,\"#fdca26\"],[1.0,\"#f0f921\"]]}],\"heatmapgl\":[{\"type\":\"heatmapgl\",\"colorbar\":{\"outlinewidth\":0,\"ticks\":\"\"},\"colorscale\":[[0.0,\"#0d0887\"],[0.1111111111111111,\"#46039f\"],[0.2222222222222222,\"#7201a8\"],[0.3333333333333333,\"#9c179e\"],[0.4444444444444444,\"#bd3786\"],[0.5555555555555556,\"#d8576b\"],[0.6666666666666666,\"#ed7953\"],[0.7777777777777778,\"#fb9f3a\"],[0.8888888888888888,\"#fdca26\"],[1.0,\"#f0f921\"]]}],\"contourcarpet\":[{\"type\":\"contourcarpet\",\"colorbar\":{\"outlinewidth\":0,\"ticks\":\"\"}}],\"contour\":[{\"type\":\"contour\",\"colorbar\":{\"outlinewidth\":0,\"ticks\":\"\"},\"colorscale\":[[0.0,\"#0d0887\"],[0.1111111111111111,\"#46039f\"],[0.2222222222222222,\"#7201a8\"],[0.3333333333333333,\"#9c179e\"],[0.4444444444444444,\"#bd3786\"],[0.5555555555555556,\"#d8576b\"],[0.6666666666666666,\"#ed7953\"],[0.7777777777777778,\"#fb9f3a\"],[0.8888888888888888,\"#fdca26\"],[1.0,\"#f0f921\"]]}],\"surface\":[{\"type\":\"surface\",\"colorbar\":{\"outlinewidth\":0,\"ticks\":\"\"},\"colorscale\":[[0.0,\"#0d0887\"],[0.1111111111111111,\"#46039f\"],[0.2222222222222222,\"#7201a8\"],[0.3333333333333333,\"#9c179e\"],[0.4444444444444444,\"#bd3786\"],[0.5555555555555556,\"#d8576b\"],[0.6666666666666666,\"#ed7953\"],[0.7777777777777778,\"#fb9f3a\"],[0.8888888888888888,\"#fdca26\"],[1.0,\"#f0f921\"]]}],\"mesh3d\":[{\"type\":\"mesh3d\",\"colorbar\":{\"outlinewidth\":0,\"ticks\":\"\"}}],\"scatter\":[{\"fillpattern\":{\"fillmode\":\"overlay\",\"size\":10,\"solidity\":0.2},\"type\":\"scatter\"}],\"parcoords\":[{\"type\":\"parcoords\",\"line\":{\"colorbar\":{\"outlinewidth\":0,\"ticks\":\"\"}}}],\"scatterpolargl\":[{\"type\":\"scatterpolargl\",\"marker\":{\"colorbar\":{\"outlinewidth\":0,\"ticks\":\"\"}}}],\"bar\":[{\"error_x\":{\"color\":\"#2a3f5f\"},\"error_y\":{\"color\":\"#2a3f5f\"},\"marker\":{\"line\":{\"color\":\"#E5ECF6\",\"width\":0.5},\"pattern\":{\"fillmode\":\"overlay\",\"size\":10,\"solidity\":0.2}},\"type\":\"bar\"}],\"scattergeo\":[{\"type\":\"scattergeo\",\"marker\":{\"colorbar\":{\"outlinewidth\":0,\"ticks\":\"\"}}}],\"scatterpolar\":[{\"type\":\"scatterpolar\",\"marker\":{\"colorbar\":{\"outlinewidth\":0,\"ticks\":\"\"}}}],\"histogram\":[{\"marker\":{\"pattern\":{\"fillmode\":\"overlay\",\"size\":10,\"solidity\":0.2}},\"type\":\"histogram\"}],\"scattergl\":[{\"type\":\"scattergl\",\"marker\":{\"colorbar\":{\"outlinewidth\":0,\"ticks\":\"\"}}}],\"scatter3d\":[{\"type\":\"scatter3d\",\"line\":{\"colorbar\":{\"outlinewidth\":0,\"ticks\":\"\"}},\"marker\":{\"colorbar\":{\"outlinewidth\":0,\"ticks\":\"\"}}}],\"scattermapbox\":[{\"type\":\"scattermapbox\",\"marker\":{\"colorbar\":{\"outlinewidth\":0,\"ticks\":\"\"}}}],\"scatterternary\":[{\"type\":\"scatterternary\",\"marker\":{\"colorbar\":{\"outlinewidth\":0,\"ticks\":\"\"}}}],\"scattercarpet\":[{\"type\":\"scattercarpet\",\"marker\":{\"colorbar\":{\"outlinewidth\":0,\"ticks\":\"\"}}}],\"carpet\":[{\"aaxis\":{\"endlinecolor\":\"#2a3f5f\",\"gridcolor\":\"white\",\"linecolor\":\"white\",\"minorgridcolor\":\"white\",\"startlinecolor\":\"#2a3f5f\"},\"baxis\":{\"endlinecolor\":\"#2a3f5f\",\"gridcolor\":\"white\",\"linecolor\":\"white\",\"minorgridcolor\":\"white\",\"startlinecolor\":\"#2a3f5f\"},\"type\":\"carpet\"}],\"table\":[{\"cells\":{\"fill\":{\"color\":\"#EBF0F8\"},\"line\":{\"color\":\"white\"}},\"header\":{\"fill\":{\"color\":\"#C8D4E3\"},\"line\":{\"color\":\"white\"}},\"type\":\"table\"}],\"barpolar\":[{\"marker\":{\"line\":{\"color\":\"#E5ECF6\",\"width\":0.5},\"pattern\":{\"fillmode\":\"overlay\",\"size\":10,\"solidity\":0.2}},\"type\":\"barpolar\"}],\"pie\":[{\"automargin\":true,\"type\":\"pie\"}]},\"layout\":{\"autotypenumbers\":\"strict\",\"colorway\":[\"#636efa\",\"#EF553B\",\"#00cc96\",\"#ab63fa\",\"#FFA15A\",\"#19d3f3\",\"#FF6692\",\"#B6E880\",\"#FF97FF\",\"#FECB52\"],\"font\":{\"color\":\"#2a3f5f\"},\"hovermode\":\"closest\",\"hoverlabel\":{\"align\":\"left\"},\"paper_bgcolor\":\"white\",\"plot_bgcolor\":\"#E5ECF6\",\"polar\":{\"bgcolor\":\"#E5ECF6\",\"angularaxis\":{\"gridcolor\":\"white\",\"linecolor\":\"white\",\"ticks\":\"\"},\"radialaxis\":{\"gridcolor\":\"white\",\"linecolor\":\"white\",\"ticks\":\"\"}},\"ternary\":{\"bgcolor\":\"#E5ECF6\",\"aaxis\":{\"gridcolor\":\"white\",\"linecolor\":\"white\",\"ticks\":\"\"},\"baxis\":{\"gridcolor\":\"white\",\"linecolor\":\"white\",\"ticks\":\"\"},\"caxis\":{\"gridcolor\":\"white\",\"linecolor\":\"white\",\"ticks\":\"\"}},\"coloraxis\":{\"colorbar\":{\"outlinewidth\":0,\"ticks\":\"\"}},\"colorscale\":{\"sequential\":[[0.0,\"#0d0887\"],[0.1111111111111111,\"#46039f\"],[0.2222222222222222,\"#7201a8\"],[0.3333333333333333,\"#9c179e\"],[0.4444444444444444,\"#bd3786\"],[0.5555555555555556,\"#d8576b\"],[0.6666666666666666,\"#ed7953\"],[0.7777777777777778,\"#fb9f3a\"],[0.8888888888888888,\"#fdca26\"],[1.0,\"#f0f921\"]],\"sequentialminus\":[[0.0,\"#0d0887\"],[0.1111111111111111,\"#46039f\"],[0.2222222222222222,\"#7201a8\"],[0.3333333333333333,\"#9c179e\"],[0.4444444444444444,\"#bd3786\"],[0.5555555555555556,\"#d8576b\"],[0.6666666666666666,\"#ed7953\"],[0.7777777777777778,\"#fb9f3a\"],[0.8888888888888888,\"#fdca26\"],[1.0,\"#f0f921\"]],\"diverging\":[[0,\"#8e0152\"],[0.1,\"#c51b7d\"],[0.2,\"#de77ae\"],[0.3,\"#f1b6da\"],[0.4,\"#fde0ef\"],[0.5,\"#f7f7f7\"],[0.6,\"#e6f5d0\"],[0.7,\"#b8e186\"],[0.8,\"#7fbc41\"],[0.9,\"#4d9221\"],[1,\"#276419\"]]},\"xaxis\":{\"gridcolor\":\"white\",\"linecolor\":\"white\",\"ticks\":\"\",\"title\":{\"standoff\":15},\"zerolinecolor\":\"white\",\"automargin\":true,\"zerolinewidth\":2},\"yaxis\":{\"gridcolor\":\"white\",\"linecolor\":\"white\",\"ticks\":\"\",\"title\":{\"standoff\":15},\"zerolinecolor\":\"white\",\"automargin\":true,\"zerolinewidth\":2},\"scene\":{\"xaxis\":{\"backgroundcolor\":\"#E5ECF6\",\"gridcolor\":\"white\",\"linecolor\":\"white\",\"showbackground\":true,\"ticks\":\"\",\"zerolinecolor\":\"white\",\"gridwidth\":2},\"yaxis\":{\"backgroundcolor\":\"#E5ECF6\",\"gridcolor\":\"white\",\"linecolor\":\"white\",\"showbackground\":true,\"ticks\":\"\",\"zerolinecolor\":\"white\",\"gridwidth\":2},\"zaxis\":{\"backgroundcolor\":\"#E5ECF6\",\"gridcolor\":\"white\",\"linecolor\":\"white\",\"showbackground\":true,\"ticks\":\"\",\"zerolinecolor\":\"white\",\"gridwidth\":2}},\"shapedefaults\":{\"line\":{\"color\":\"#2a3f5f\"}},\"annotationdefaults\":{\"arrowcolor\":\"#2a3f5f\",\"arrowhead\":0,\"arrowwidth\":1},\"geo\":{\"bgcolor\":\"white\",\"landcolor\":\"#E5ECF6\",\"subunitcolor\":\"white\",\"showland\":true,\"showlakes\":true,\"lakecolor\":\"white\"},\"title\":{\"x\":0.05},\"mapbox\":{\"style\":\"light\"}}},\"xaxis\":{\"anchor\":\"y\",\"domain\":[0.0,1.0],\"title\":{\"text\":\"Country\"}},\"yaxis\":{\"anchor\":\"x\",\"domain\":[0.0,1.0],\"title\":{\"text\":\"Generation_Z_voters\"}},\"coloraxis\":{\"colorbar\":{\"title\":{\"text\":\"Generation_Z_voters\"}},\"colorscale\":[[0.0,\"#0d0887\"],[0.1111111111111111,\"#46039f\"],[0.2222222222222222,\"#7201a8\"],[0.3333333333333333,\"#9c179e\"],[0.4444444444444444,\"#bd3786\"],[0.5555555555555556,\"#d8576b\"],[0.6666666666666666,\"#ed7953\"],[0.7777777777777778,\"#fb9f3a\"],[0.8888888888888888,\"#fdca26\"],[1.0,\"#f0f921\"]]},\"legend\":{\"tracegroupgap\":0},\"title\":{\"text\":\"Total Number for Generation Z voters in 2019 EU Election per each Country.\"},\"barmode\":\"relative\",\"height\":900,\"width\":1300},                        {\"responsive\": true}                    ).then(function(){\n",
       "                            \n",
       "var gd = document.getElementById('76d07414-1b1c-4e89-89dc-0e1090dd23a0');\n",
       "var x = new MutationObserver(function (mutations, observer) {{\n",
       "        var display = window.getComputedStyle(gd).display;\n",
       "        if (!display || display === 'none') {{\n",
       "            console.log([gd, 'removed!']);\n",
       "            Plotly.purge(gd);\n",
       "            observer.disconnect();\n",
       "        }}\n",
       "}});\n",
       "\n",
       "// Listen for the removal of the full notebook cells\n",
       "var notebookContainer = gd.closest('#notebook-container');\n",
       "if (notebookContainer) {{\n",
       "    x.observe(notebookContainer, {childList: true});\n",
       "}}\n",
       "\n",
       "// Listen for the clearing of the current output cell\n",
       "var outputEl = gd.closest('.output');\n",
       "if (outputEl) {{\n",
       "    x.observe(outputEl, {childList: true});\n",
       "}}\n",
       "\n",
       "                        })                };                });            </script>        </div>"
      ]
     },
     "metadata": {},
     "output_type": "display_data"
    }
   ],
   "source": [
    "fig=px.bar(Generation_Z_voters,x='Country',y='Generation_Z_voters',color='Generation_Z_voters',\n",
    "           title='Total Number for Generation Z voters in 2019 EU Election per each Country.',text_auto='.3s',height=900, width=1300)\n",
    "fig.show()"
   ]
  },
  {
   "cell_type": "code",
   "execution_count": null,
   "metadata": {},
   "outputs": [],
   "source": []
  },
  {
   "cell_type": "code",
   "execution_count": null,
   "metadata": {},
   "outputs": [],
   "source": []
  }
 ],
 "metadata": {
  "kernelspec": {
   "display_name": "Python 3 (ipykernel)",
   "language": "python",
   "name": "python3"
  },
  "language_info": {
   "codemirror_mode": {
    "name": "ipython",
    "version": 3
   },
   "file_extension": ".py",
   "mimetype": "text/x-python",
   "name": "python",
   "nbconvert_exporter": "python",
   "pygments_lexer": "ipython3",
   "version": "3.11.7"
  }
 },
 "nbformat": 4,
 "nbformat_minor": 4
}
